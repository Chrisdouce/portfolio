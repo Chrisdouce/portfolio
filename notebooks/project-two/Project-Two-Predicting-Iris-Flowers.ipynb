{
 "cells": [
  {
   "cell_type": "markdown",
   "id": "769eb20e",
   "metadata": {},
   "source": [
    "# Project Two: Predicting Iris Flowers"
   ]
  },
  {
   "cell_type": "markdown",
   "id": "5fe3d934",
   "metadata": {},
   "source": [
    "<div>\n",
    "<img src=\"../images/flower.jpg\" alt=\"flower image\" width=\"30%\"/>\n",
    "</div>"
   ]
  },
  {
   "cell_type": "markdown",
   "id": "e90f79cf",
   "metadata": {},
   "source": [
    "## Introduction\n",
    "---"
   ]
  },
  {
   "cell_type": "markdown",
   "id": "68c9105e",
   "metadata": {},
   "source": [
    "Flowers are a common in more ways than you think. From displays of affection to enviormental impact, flowers are needed. Iris flower data set is a very popular dataset dating back to 1950s when the paper, \"\", was created to demonstrate how machine learning works. In this project, we'll be diving into prediciting flowers based on their diffrent aspects."
   ]
  },
  {
   "cell_type": "markdown",
   "id": "c1748059",
   "metadata": {},
   "source": [
    "As mentioned above, we'll be using the [iris dataset](https://www.kaggle.com/datasets/uciml/iris). It will be used predict flower specis and also test to see efficient our predications are. I also want to use the dataset to target something else like the biggest pedals and spetal.\n",
    "- t\n",
    "- t\n",
    "- t"
   ]
  },
  {
   "cell_type": "markdown",
   "id": "a1046652",
   "metadata": {},
   "source": [
    "The dataset itself is really straight forward with only 4 features and 150 rows. Here are all the features in detail:\n",
    "<table>\n",
    "    <tr>\n",
    "        <td><strong>Feature</strong></td>\n",
    "        <td><strong>Description</strong></td>\n",
    "    </tr>\n",
    "    <tr>\n",
    "        <td>Id</td>\n",
    "        <td>Row Number</td>\n",
    "    </tr>\n",
    "    <tr>\n",
    "        <td>SepalLengthCm</td>\n",
    "        <td>Length of the sepal</td>\n",
    "    </tr>\n",
    "    <tr>\n",
    "        <td>SepalWidthCm</td>\n",
    "        <td>Width of the sepal</td>\n",
    "    </tr>\n",
    "    <tr>\n",
    "        <td>PetalLengthCm</td>\n",
    "        <td>Length of the Petal</td>\n",
    "    </tr>\n",
    "    <tr>\n",
    "        <td>PetalWidthCm</td>\n",
    "        <td>Width of the Petal</td>\n",
    "    </tr>\n",
    "    <tr>\n",
    "        <td>Species</td>\n",
    "        <td>Species of the iris. Either being Iris-setosa, Iris-versicolor, or Iris-virginica</td>\n",
    "    </tr>\n",
    "</table>\n",
    "As a little refresher, the sepal is the leaf-like parts that enclose and protect the flower bud, and the petal is the modified leaf that surrounds the reproductive parts of a flower and usually contains the color."
   ]
  },
  {
   "cell_type": "code",
   "execution_count": 3,
   "id": "041273d4",
   "metadata": {},
   "outputs": [],
   "source": [
    "#Imports\n",
    "import numpy as np\n",
    "import pandas as pd\n",
    "import matplotlib.pyplot as plt\n",
    "import seaborn as sns"
   ]
  },
  {
   "cell_type": "code",
   "execution_count": 4,
   "id": "19125da8",
   "metadata": {},
   "outputs": [
    {
     "data": {
      "text/html": [
       "<div>\n",
       "<style scoped>\n",
       "    .dataframe tbody tr th:only-of-type {\n",
       "        vertical-align: middle;\n",
       "    }\n",
       "\n",
       "    .dataframe tbody tr th {\n",
       "        vertical-align: top;\n",
       "    }\n",
       "\n",
       "    .dataframe thead th {\n",
       "        text-align: right;\n",
       "    }\n",
       "</style>\n",
       "<table border=\"1\" class=\"dataframe\">\n",
       "  <thead>\n",
       "    <tr style=\"text-align: right;\">\n",
       "      <th></th>\n",
       "      <th>Id</th>\n",
       "      <th>SepalLengthCm</th>\n",
       "      <th>SepalWidthCm</th>\n",
       "      <th>PetalLengthCm</th>\n",
       "      <th>PetalWidthCm</th>\n",
       "      <th>Species</th>\n",
       "    </tr>\n",
       "  </thead>\n",
       "  <tbody>\n",
       "    <tr>\n",
       "      <th>0</th>\n",
       "      <td>1</td>\n",
       "      <td>5.1</td>\n",
       "      <td>3.5</td>\n",
       "      <td>1.4</td>\n",
       "      <td>0.2</td>\n",
       "      <td>Iris-setosa</td>\n",
       "    </tr>\n",
       "    <tr>\n",
       "      <th>1</th>\n",
       "      <td>2</td>\n",
       "      <td>4.9</td>\n",
       "      <td>3.0</td>\n",
       "      <td>1.4</td>\n",
       "      <td>0.2</td>\n",
       "      <td>Iris-setosa</td>\n",
       "    </tr>\n",
       "    <tr>\n",
       "      <th>2</th>\n",
       "      <td>3</td>\n",
       "      <td>4.7</td>\n",
       "      <td>3.2</td>\n",
       "      <td>1.3</td>\n",
       "      <td>0.2</td>\n",
       "      <td>Iris-setosa</td>\n",
       "    </tr>\n",
       "    <tr>\n",
       "      <th>3</th>\n",
       "      <td>4</td>\n",
       "      <td>4.6</td>\n",
       "      <td>3.1</td>\n",
       "      <td>1.5</td>\n",
       "      <td>0.2</td>\n",
       "      <td>Iris-setosa</td>\n",
       "    </tr>\n",
       "    <tr>\n",
       "      <th>4</th>\n",
       "      <td>5</td>\n",
       "      <td>5.0</td>\n",
       "      <td>3.6</td>\n",
       "      <td>1.4</td>\n",
       "      <td>0.2</td>\n",
       "      <td>Iris-setosa</td>\n",
       "    </tr>\n",
       "  </tbody>\n",
       "</table>\n",
       "</div>"
      ],
      "text/plain": [
       "   Id  SepalLengthCm  SepalWidthCm  PetalLengthCm  PetalWidthCm      Species\n",
       "0   1            5.1           3.5            1.4           0.2  Iris-setosa\n",
       "1   2            4.9           3.0            1.4           0.2  Iris-setosa\n",
       "2   3            4.7           3.2            1.3           0.2  Iris-setosa\n",
       "3   4            4.6           3.1            1.5           0.2  Iris-setosa\n",
       "4   5            5.0           3.6            1.4           0.2  Iris-setosa"
      ]
     },
     "execution_count": 4,
     "metadata": {},
     "output_type": "execute_result"
    }
   ],
   "source": [
    "#dataset\n",
    "df = pd.read_csv('iris.csv')\n",
    "df.head()"
   ]
  },
  {
   "cell_type": "markdown",
   "id": "070317be",
   "metadata": {},
   "source": [
    "## Pre-processing\n",
    "---"
   ]
  },
  {
   "cell_type": "markdown",
   "id": "8c178d83",
   "metadata": {},
   "source": [
    "Since this dataset is so popular for machine learning and it's so small with little features, it seems likely this data is already clean. Though let's just make sure kaggle didn't have any import errors and/or the dataset wasn't poorly uploaded."
   ]
  },
  {
   "cell_type": "markdown",
   "id": "7b2b6a5b",
   "metadata": {},
   "source": [
    "### Dropping nulls"
   ]
  },
  {
   "cell_type": "code",
   "execution_count": 5,
   "id": "ebc5a172",
   "metadata": {},
   "outputs": [
    {
     "data": {
      "text/plain": [
       "Id               0\n",
       "SepalLengthCm    0\n",
       "SepalWidthCm     0\n",
       "PetalLengthCm    0\n",
       "PetalWidthCm     0\n",
       "Species          0\n",
       "dtype: int64"
      ]
     },
     "execution_count": 5,
     "metadata": {},
     "output_type": "execute_result"
    }
   ],
   "source": [
    "df.isnull().sum()"
   ]
  },
  {
   "cell_type": "markdown",
   "id": "7a08621d",
   "metadata": {},
   "source": [
    "No nulls are here so we don't have to worry about it."
   ]
  },
  {
   "cell_type": "markdown",
   "id": "de997192",
   "metadata": {},
   "source": [
    "### Duplicates"
   ]
  },
  {
   "cell_type": "code",
   "execution_count": 6,
   "id": "f435e48d",
   "metadata": {},
   "outputs": [
    {
     "name": "stdout",
     "output_type": "stream",
     "text": [
      "False    150\n",
      "dtype: int64\n"
     ]
    }
   ],
   "source": [
    "print(df.duplicated().value_counts())"
   ]
  },
  {
   "cell_type": "markdown",
   "id": "825a3266",
   "metadata": {},
   "source": [
    "No duplicates either which is nice, lets move on to more interesting steps"
   ]
  },
  {
   "cell_type": "markdown",
   "id": "071f5b2b",
   "metadata": {},
   "source": [
    "### Checking types"
   ]
  },
  {
   "cell_type": "code",
   "execution_count": 7,
   "id": "5e73b8bf",
   "metadata": {},
   "outputs": [
    {
     "data": {
      "text/plain": [
       "Id                 int64\n",
       "SepalLengthCm    float64\n",
       "SepalWidthCm     float64\n",
       "PetalLengthCm    float64\n",
       "PetalWidthCm     float64\n",
       "Species           object\n",
       "dtype: object"
      ]
     },
     "execution_count": 7,
     "metadata": {},
     "output_type": "execute_result"
    }
   ],
   "source": [
    "df.dtypes"
   ]
  },
  {
   "cell_type": "markdown",
   "id": "bc7d75c8",
   "metadata": {},
   "source": [
    "Types also aren't an issue which confirms the db looks okay, for now."
   ]
  },
  {
   "cell_type": "markdown",
   "id": "322543b4",
   "metadata": {},
   "source": [
    "## Basic visualization\n",
    "---"
   ]
  },
  {
   "cell_type": "markdown",
   "id": "565c2463",
   "metadata": {},
   "source": [
    "One last thing before we start using a ML model, lets find visualize some of the data."
   ]
  },
  {
   "cell_type": "code",
   "execution_count": null,
   "id": "a07b24a8",
   "metadata": {},
   "outputs": [],
   "source": []
  }
 ],
 "metadata": {
  "kernelspec": {
   "display_name": "Python 3 (ipykernel)",
   "language": "python",
   "name": "python3"
  },
  "language_info": {
   "codemirror_mode": {
    "name": "ipython",
    "version": 3
   },
   "file_extension": ".py",
   "mimetype": "text/x-python",
   "name": "python",
   "nbconvert_exporter": "python",
   "pygments_lexer": "ipython3",
   "version": "3.11.5"
  }
 },
 "nbformat": 4,
 "nbformat_minor": 5
}
