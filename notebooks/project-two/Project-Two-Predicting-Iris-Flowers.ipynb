{
 "cells": [
  {
   "cell_type": "markdown",
   "id": "92bdffff",
   "metadata": {},
   "source": [
    "# Project Two: Predicting Iris Flowers"
   ]
  },
  {
   "cell_type": "markdown",
   "id": "29756d58",
   "metadata": {},
   "source": [
    "<div>\n",
    "<img src=\"../images/flower.jpg\" alt=\"flower image\" width=\"20%\"/>\n",
    "</div>"
   ]
  },
  {
   "cell_type": "markdown",
   "id": "6f546cf4",
   "metadata": {},
   "source": [
    "## Introduction\n",
    "---"
   ]
  },
  {
   "cell_type": "markdown",
   "id": "42cb07e5",
   "metadata": {},
   "source": [
    "Flowers play an essential role in our lives, from expressing emotions to contributing to environmental sustainability. Among them, the Iris flower holds a special place—not just in nature, but also in the world of data science. The Iris dataset is one of the most well-known datasets, first introduced in R.A. Fisher's 1936 paper, <i>The Use of Multiple Measurements in Taxonomic Problems</i>. This dataset has since become a fundamental resource in machine learning and statistical classification. It is widely used for testing algorithms and can be accessed through the UCI Machine Learning Repository."
   ]
  },
  {
   "cell_type": "markdown",
   "id": "b2ae0547",
   "metadata": {},
   "source": [
    "As mentioned above, we'll be using the [iris dataset](https://www.kaggle.com/datasets/uciml/iris) to predict flower species and evaluate the efficiency of our predictions. Additionally, I aim to explore other aspects of the dataset, such as identifying flowers with the largest petals and sepals and analyzing their significance.\n",
    "- Which classification model performs best in predicting flower species?\n",
    "- How do petal and sepal sizes vary among different species?\n",
    "- Can we use petal and sepal measurements to group flowers using clustering methods?"
   ]
  },
  {
   "cell_type": "markdown",
   "id": "74415125",
   "metadata": {},
   "source": [
    "The dataset itself is straightforward with only 4 features and 150 rows. The dataset is evenly distributed among the three species (50 samples per class). Here are all the features in detail:\n",
    "<table>\n",
    "    <tr>\n",
    "        <td><strong>Feature</strong></td>\n",
    "        <td><strong>Description</strong></td>\n",
    "    </tr>\n",
    "    <tr>\n",
    "        <td>Id</td>\n",
    "        <td>Row Number</td>\n",
    "    </tr>\n",
    "    <tr>\n",
    "        <td>SepalLengthCm</td>\n",
    "        <td>Length of the sepal</td>\n",
    "    </tr>\n",
    "    <tr>\n",
    "        <td>SepalWidthCm</td>\n",
    "        <td>Width of the sepal</td>\n",
    "    </tr>\n",
    "    <tr>\n",
    "        <td>PetalLengthCm</td>\n",
    "        <td>Length of the Petal</td>\n",
    "    </tr>\n",
    "    <tr>\n",
    "        <td>PetalWidthCm</td>\n",
    "        <td>Width of the Petal</td>\n",
    "    </tr>\n",
    "    <tr>\n",
    "        <td>Species</td>\n",
    "        <td>Species of the iris. Either being Iris-setosa, Iris-versicolor, or Iris-virginica</td>\n",
    "    </tr>\n",
    "</table>\n",
    "As a little refresher, the sepal is the leaf-like part that encloses and protects the flower bud, and the petal is the modified leaf that surrounds the reproductive parts of a flower and usually contains the color."
   ]
  },
  {
   "cell_type": "code",
   "execution_count": 9,
   "id": "a7650c29",
   "metadata": {},
   "outputs": [],
   "source": [
    "#Imports\n",
    "import numpy as np\n",
    "import pandas as pd\n",
    "import matplotlib.pyplot as plt\n",
    "import seaborn as sns\n",
    "import sklearn as sk"
   ]
  },
  {
   "cell_type": "code",
   "execution_count": 10,
   "id": "d24d573b",
   "metadata": {},
   "outputs": [
    {
     "data": {
      "text/html": [
       "<div>\n",
       "<style scoped>\n",
       "    .dataframe tbody tr th:only-of-type {\n",
       "        vertical-align: middle;\n",
       "    }\n",
       "\n",
       "    .dataframe tbody tr th {\n",
       "        vertical-align: top;\n",
       "    }\n",
       "\n",
       "    .dataframe thead th {\n",
       "        text-align: right;\n",
       "    }\n",
       "</style>\n",
       "<table border=\"1\" class=\"dataframe\">\n",
       "  <thead>\n",
       "    <tr style=\"text-align: right;\">\n",
       "      <th></th>\n",
       "      <th>Id</th>\n",
       "      <th>SepalLengthCm</th>\n",
       "      <th>SepalWidthCm</th>\n",
       "      <th>PetalLengthCm</th>\n",
       "      <th>PetalWidthCm</th>\n",
       "      <th>Species</th>\n",
       "    </tr>\n",
       "  </thead>\n",
       "  <tbody>\n",
       "    <tr>\n",
       "      <th>0</th>\n",
       "      <td>1</td>\n",
       "      <td>5.1</td>\n",
       "      <td>3.5</td>\n",
       "      <td>1.4</td>\n",
       "      <td>0.2</td>\n",
       "      <td>Iris-setosa</td>\n",
       "    </tr>\n",
       "    <tr>\n",
       "      <th>1</th>\n",
       "      <td>2</td>\n",
       "      <td>4.9</td>\n",
       "      <td>3.0</td>\n",
       "      <td>1.4</td>\n",
       "      <td>0.2</td>\n",
       "      <td>Iris-setosa</td>\n",
       "    </tr>\n",
       "    <tr>\n",
       "      <th>2</th>\n",
       "      <td>3</td>\n",
       "      <td>4.7</td>\n",
       "      <td>3.2</td>\n",
       "      <td>1.3</td>\n",
       "      <td>0.2</td>\n",
       "      <td>Iris-setosa</td>\n",
       "    </tr>\n",
       "    <tr>\n",
       "      <th>3</th>\n",
       "      <td>4</td>\n",
       "      <td>4.6</td>\n",
       "      <td>3.1</td>\n",
       "      <td>1.5</td>\n",
       "      <td>0.2</td>\n",
       "      <td>Iris-setosa</td>\n",
       "    </tr>\n",
       "    <tr>\n",
       "      <th>4</th>\n",
       "      <td>5</td>\n",
       "      <td>5.0</td>\n",
       "      <td>3.6</td>\n",
       "      <td>1.4</td>\n",
       "      <td>0.2</td>\n",
       "      <td>Iris-setosa</td>\n",
       "    </tr>\n",
       "  </tbody>\n",
       "</table>\n",
       "</div>"
      ],
      "text/plain": [
       "   Id  SepalLengthCm  SepalWidthCm  PetalLengthCm  PetalWidthCm      Species\n",
       "0   1            5.1           3.5            1.4           0.2  Iris-setosa\n",
       "1   2            4.9           3.0            1.4           0.2  Iris-setosa\n",
       "2   3            4.7           3.2            1.3           0.2  Iris-setosa\n",
       "3   4            4.6           3.1            1.5           0.2  Iris-setosa\n",
       "4   5            5.0           3.6            1.4           0.2  Iris-setosa"
      ]
     },
     "execution_count": 10,
     "metadata": {},
     "output_type": "execute_result"
    }
   ],
   "source": [
    "#dataset\n",
    "df = pd.read_csv('iris.csv')\n",
    "df.head()"
   ]
  },
  {
   "cell_type": "markdown",
   "id": "46ca5359",
   "metadata": {},
   "source": [
    "## Pre-processing\n",
    "---"
   ]
  },
  {
   "cell_type": "markdown",
   "id": "84f093e2",
   "metadata": {},
   "source": [
    "Since this dataset is so popular for machine learning and it's so small with little features, it seems likely this data is already clean. Though let's just make sure kaggle didn't have any import errors and/or the dataset wasn't poorly uploaded."
   ]
  },
  {
   "cell_type": "markdown",
   "id": "e00d531e",
   "metadata": {},
   "source": [
    "### Dropping nulls"
   ]
  },
  {
   "cell_type": "code",
   "execution_count": 5,
   "id": "e6f28bc1",
   "metadata": {},
   "outputs": [
    {
     "data": {
      "text/plain": [
       "Id               0\n",
       "SepalLengthCm    0\n",
       "SepalWidthCm     0\n",
       "PetalLengthCm    0\n",
       "PetalWidthCm     0\n",
       "Species          0\n",
       "dtype: int64"
      ]
     },
     "execution_count": 5,
     "metadata": {},
     "output_type": "execute_result"
    }
   ],
   "source": [
    "df.isnull().sum()"
   ]
  },
  {
   "cell_type": "markdown",
   "id": "3c921397",
   "metadata": {},
   "source": [
    "No nulls are here so we don't have to worry about it."
   ]
  },
  {
   "cell_type": "markdown",
   "id": "c794850e",
   "metadata": {},
   "source": [
    "### Duplicates"
   ]
  },
  {
   "cell_type": "code",
   "execution_count": 6,
   "id": "ce7615d8",
   "metadata": {},
   "outputs": [
    {
     "name": "stdout",
     "output_type": "stream",
     "text": [
      "False    150\n",
      "dtype: int64\n"
     ]
    }
   ],
   "source": [
    "print(df.duplicated().value_counts())"
   ]
  },
  {
   "cell_type": "markdown",
   "id": "7cc7a91b",
   "metadata": {},
   "source": [
    "No duplicates either which is nice, lets move on to more interesting steps"
   ]
  },
  {
   "cell_type": "markdown",
   "id": "e0b1246a",
   "metadata": {},
   "source": [
    "### Checking for unusual types"
   ]
  },
  {
   "cell_type": "code",
   "execution_count": 7,
   "id": "dc4eadbc",
   "metadata": {},
   "outputs": [
    {
     "data": {
      "text/plain": [
       "Id                 int64\n",
       "SepalLengthCm    float64\n",
       "SepalWidthCm     float64\n",
       "PetalLengthCm    float64\n",
       "PetalWidthCm     float64\n",
       "Species           object\n",
       "dtype: object"
      ]
     },
     "execution_count": 7,
     "metadata": {},
     "output_type": "execute_result"
    }
   ],
   "source": [
    "df.dtypes"
   ]
  },
  {
   "cell_type": "markdown",
   "id": "8dd087c0",
   "metadata": {},
   "source": [
    "Types also aren't an issue which should confirm the db looks okay, for now."
   ]
  },
  {
   "cell_type": "markdown",
   "id": "c35a3847",
   "metadata": {},
   "source": [
    "## Modeling\n",
    "---"
   ]
  },
  {
   "cell_type": "markdown",
   "id": "27f8d915",
   "metadata": {},
   "source": [
    "Since this is a classification issue, we'll be using the k-Nearest Neighbors (KNN) which should be good for a small dataset like this."
   ]
  },
  {
   "cell_type": "markdown",
   "id": "199abf43",
   "metadata": {},
   "source": [
    "## Visualization\n",
    "---"
   ]
  },
  {
   "cell_type": "markdown",
   "id": "d65fd410",
   "metadata": {},
   "source": [
    "## Evaluation\n",
    "---"
   ]
  },
  {
   "cell_type": "markdown",
   "id": "26c74256",
   "metadata": {},
   "source": [
    "## Impact & Implications\n",
    "---"
   ]
  },
  {
   "cell_type": "markdown",
   "id": "21f2722f",
   "metadata": {},
   "source": [
    "## Storytelling\n",
    "---"
   ]
  },
  {
   "cell_type": "markdown",
   "id": "e002382c",
   "metadata": {},
   "source": [
    "## References\n",
    "---"
   ]
  },
  {
   "cell_type": "markdown",
   "id": "1e97c053",
   "metadata": {},
   "source": [
    "- [Iris Dataset](https://www.kaggle.com/datasets/uciml/iris)\n",
    "- [Introduction facts](https://www.geeksforgeeks.org/iris-dataset/)"
   ]
  },
  {
   "cell_type": "code",
   "execution_count": null,
   "id": "ec3117de",
   "metadata": {},
   "outputs": [],
   "source": []
  }
 ],
 "metadata": {
  "kernelspec": {
   "display_name": "Python 3 (ipykernel)",
   "language": "python",
   "name": "python3"
  },
  "language_info": {
   "codemirror_mode": {
    "name": "ipython",
    "version": 3
   },
   "file_extension": ".py",
   "mimetype": "text/x-python",
   "name": "python",
   "nbconvert_exporter": "python",
   "pygments_lexer": "ipython3",
   "version": "3.11.5"
  }
 },
 "nbformat": 4,
 "nbformat_minor": 5
}
