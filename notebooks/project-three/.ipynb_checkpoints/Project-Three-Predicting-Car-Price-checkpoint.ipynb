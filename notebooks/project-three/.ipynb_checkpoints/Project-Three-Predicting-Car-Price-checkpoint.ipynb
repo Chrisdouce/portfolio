{
 "cells": [
  {
   "cell_type": "markdown",
   "id": "5f7b21f5-0d22-44d2-b433-a228152eebdc",
   "metadata": {},
   "source": [
    "# Project Two: Predicting Car Price With Regression"
   ]
  },
  {
   "cell_type": "markdown",
   "id": "350e19ae-ce6e-4da1-bce6-1713a499f267",
   "metadata": {},
   "source": [
    "<div>\n",
    "<img src=\"../images/car.jpg\" alt=\"car lot image\" width=\"20%\"/>\n",
    "</div>"
   ]
  },
  {
   "cell_type": "markdown",
   "id": "dcd80c77-184a-4dcf-aaab-e52b6c534a2d",
   "metadata": {},
   "source": [
    "## Introduction\n",
    "---"
   ]
  },
  {
   "cell_type": "markdown",
   "id": "d431d6a0-30f1-45ab-baa0-beb63f3d70ae",
   "metadata": {},
   "source": [
    "Cars are an integral part of modern life, serving as a primary mode of transportation and a significant economic asset. With millions of vehicles bought and sold each year, understanding what influences car prices and why it does is crucial for both buyers and sellers. We will need data on factors that will possibly determine a vehicle's value, such as current mileage, make, model, year, car amenity, and engine specifications."
   ]
  },
  {
   "cell_type": "markdown",
   "id": "b39b667d-19e8-4599-9766-e42ae31ea9f0",
   "metadata": {},
   "source": [
    "The [Car Prices Dataset](https://www.kaggle.com/datasets/sidharth178/car-prices-dataset?select=train.csv) provides all those features and more for predicting vehicle prices. Additionally, we will use this dataset to explore other insights, such as identifying which features contribute the most to price variations and understanding trends in car depreciation over time.\n",
    "Some key questions we seek to answer include:\n",
    "- Which factors—such as mileage, engine size, or brand—have the greatest impact on car price?\n",
    "- Can we build an accurate predictive model for car prices using linear regression?\n",
    "- How do different fuel types, transmission types, and drivetrain configurations affect a car’s value?\n",
    "- Is there a pattern in car depreciation based on production year and mileage?\n",
    "\n",
    "To predict a price, we'll use some form of regression. The first Experiment of three will focus on Linear Regression, and then in the next experiment,  we'll use another regression model to see if accuracy improves or not. Finally, in the last experiment, we'll perform some data manipulation to compare how those changes affected both models."
   ]
  },
  {
   "cell_type": "markdown",
   "id": "02d3d20f-e886-41f3-b3e3-70fcba0e6741",
   "metadata": {},
   "source": [
    "The dataset has 18 different features with around 20,000+ total rows. The columns are displayed below and follow with a description:\n",
    "<table>\n",
    "    <tr>\n",
    "        <td><strong>Feature</strong></td>\n",
    "        <td><strong>Description</strong></td>\n",
    "    </tr>\n",
    "    <tr>\n",
    "        <td>ID</td>\n",
    "        <td>Car ID</td>\n",
    "    </tr>\n",
    "    <tr>\n",
    "        <td>Price</td>\n",
    "        <td>The selling price of the car (Target Column)</td>\n",
    "    </tr>\n",
    "    <tr>\n",
    "        <td>Levy</td>\n",
    "        <td>Additional tax or charge on the vehicle</td>\n",
    "    </tr>\n",
    "    <tr>\n",
    "        <td>Manufacturer</td>\n",
    "        <td>The brand or manufacturer of the car</td>\n",
    "    </tr>\n",
    "    <tr>\n",
    "        <td>Model</td>\n",
    "        <td>The specific model of the car</td>\n",
    "    </tr>\n",
    "    <tr>\n",
    "        <td>Prod. year</td>\n",
    "        <td>The year the car was manufactured</td>\n",
    "    </tr>\n",
    "    <tr>\n",
    "        <td>Category</td>\n",
    "        <td>The type of car (e.g., Sedan, Jeep, Hatchback)</td>\n",
    "    </tr>\n",
    "    <tr>\n",
    "        <td>Leather interior</td>\n",
    "        <td>Indicates whether the car has a leather interior (Yes/No)</td>\n",
    "    </tr>\n",
    "    <tr>\n",
    "        <td>Fuel type</td>\n",
    "        <td>The type of fuel the car uses (e.g., Petrol, Diesel, CNG, Hybrid)</td>\n",
    "    </tr>\n",
    "    <tr>\n",
    "        <td>Engine volume</td>\n",
    "        <td>The engine capacity measured in liters (e.g., 2.0L, 3.5L)</td>\n",
    "    </tr>\n",
    "    <tr>\n",
    "        <td>Mileage</td>\n",
    "        <td>The total miles or kilometers the car has been driven</td>\n",
    "    </tr>\n",
    "    <tr>\n",
    "        <td>Cylinders</td>\n",
    "        <td>The number of cylinders in the engine</td>\n",
    "    </tr>\n",
    "    <tr>\n",
    "        <td>Gear box type</td>\n",
    "        <td>The type of transmission (e.g., Automatic, Manual)</td>\n",
    "    </tr>\n",
    "    <tr>\n",
    "        <td>Drive wheels</td>\n",
    "        <td>The drivetrain type (e.g., Front-Wheel Drive, Rear-Wheel Drive, All-Wheel Drive)</td>\n",
    "    </tr>\n",
    "    <tr>\n",
    "        <td>Doors</td>\n",
    "        <td>The number of doors on the vehicle (e.g., 2, 4, >5)</td>\n",
    "    </tr>\n",
    "    <tr>\n",
    "        <td>Wheel</td>\n",
    "        <td>Indicates whether the car is left-hand or right-hand drive</td>\n",
    "    </tr>\n",
    "    <tr>\n",
    "        <td>Color</td>\n",
    "        <td>The exterior color of the car</td>\n",
    "    </tr>\n",
    "    <tr>\n",
    "        <td>Airbags</td>\n",
    "        <td>The number of airbags the vehicle is equipped with</td>\n",
    "    </tr>\n",
    "</table>"
   ]
  },
  {
   "cell_type": "code",
   "execution_count": null,
   "id": "5baad0cd-e052-413b-bd9b-b0e7d00f4d0c",
   "metadata": {},
   "outputs": [],
   "source": [
    "#Imports\n",
    "import matplotlib.pyplot as plt\n",
    "import numpy as np\n",
    "import pandas as pd\n",
    "import seaborn as sns\n",
    "from sklearn import datasets, linear_model\n",
    "from sklearn.metrics import mean_squared_error, r2_score"
   ]
  },
  {
   "cell_type": "code",
   "execution_count": null,
   "id": "b5971b64-0ac8-44d0-a101-489d66155e39",
   "metadata": {},
   "outputs": [],
   "source": [
    "#dataset\n",
    "df = pd.read_csv('train.csv')\n",
    "df.head()"
   ]
  },
  {
   "cell_type": "markdown",
   "id": "992724f7-55cf-4f49-a7e7-5f7a2153923f",
   "metadata": {},
   "source": [
    "## Data Analysis \n",
    "---"
   ]
  },
  {
   "cell_type": "markdown",
   "id": "3b97fdbd-550f-4609-9f6d-4c33964511df",
   "metadata": {},
   "source": [
    "An interesting this about this dataset is how the data comes in two files. The `train.csv` (what we have) and `test.csv`. `test.csv` has all prices marked with `NaN`, hence it is a \"test\" dataset for the data."
   ]
  },
  {
   "cell_type": "code",
   "execution_count": null,
   "id": "f9c36761-fd1c-4de3-839d-e48328f42df9",
   "metadata": {},
   "outputs": [],
   "source": [
    "df2 = pd.read_csv('test.csv')\n",
    "df2.head()"
   ]
  },
  {
   "cell_type": "code",
   "execution_count": null,
   "id": "52b9682b-b205-49ec-b513-35f6c9f32b11",
   "metadata": {},
   "outputs": [],
   "source": [
    "numerical_features = [\"Levy\", \"Prod. year\", \"Engine volume\", \"Mileage\", \"Cylinders\", \"Airbags\"]\n",
    "\n",
    "for feature in numerical_features:\n",
    "    plt.figure(figsize=(6, 4))\n",
    "    sns.scatterplot(x=df[feature], y=df[\"Price\"])\n",
    "    plt.xlabel(feature)\n",
    "    plt.ylabel(\"Price\")\n",
    "    plt.title(f\"Price vs {feature}\")\n",
    "    plt.show()"
   ]
  },
  {
   "cell_type": "markdown",
   "id": "f07c0084-2317-42d3-b0d2-beb80ea6014a",
   "metadata": {},
   "source": [
    "## Pre-processing\n",
    "---"
   ]
  },
  {
   "cell_type": "markdown",
   "id": "eecf8351-7dda-4e06-b396-9b8f41ae86c8",
   "metadata": {},
   "source": [
    "There are quite a few things I want to clean up from the dataset, but let's start with the big one, the CSV files are split into a \"train\" and \"test\". What we'll do is combine the datasets and do all our basic cleaning, then separate them again. Luckily, the price isn't there on the test set and no training set is missing their price, so we'll just split them on if the price is there or not."
   ]
  },
  {
   "cell_type": "markdown",
   "id": "4e979581-4054-4c5c-94e4-1ef527734a63",
   "metadata": {},
   "source": [
    "### Combining datasets"
   ]
  },
  {
   "cell_type": "code",
   "execution_count": null,
   "id": "2bfb03e5-d39e-4f22-b0f4-fc711b9e42ab",
   "metadata": {},
   "outputs": [],
   "source": [
    "df2.shape"
   ]
  },
  {
   "cell_type": "code",
   "execution_count": null,
   "id": "8da35e62-ded7-4bad-94ab-e1ff267f73b1",
   "metadata": {},
   "outputs": [],
   "source": [
    "df.shape"
   ]
  },
  {
   "cell_type": "code",
   "execution_count": null,
   "id": "e8936990-1d11-4e17-b09d-c66d7cff0d48",
   "metadata": {},
   "outputs": [],
   "source": [
    "df_combined = pd.concat([df, df2], ignore_index=True)\n",
    "df_combined.shape"
   ]
  },
  {
   "cell_type": "markdown",
   "id": "0e04df84-6a5c-4e48-b0a1-af12d3356c94",
   "metadata": {},
   "source": [
    "Alright, we are ready to clean the data."
   ]
  },
  {
   "cell_type": "markdown",
   "id": "86ac7205-4fc8-47c3-a476-bf21365ea769",
   "metadata": {},
   "source": [
    "### Handling nulls"
   ]
  },
  {
   "cell_type": "code",
   "execution_count": null,
   "id": "4705f3cc-bec9-4510-9b88-7e65312efcf9",
   "metadata": {},
   "outputs": [],
   "source": [
    "df_combined.isnull().sum()"
   ]
  },
  {
   "cell_type": "markdown",
   "id": "4ca93045-1e9e-4549-bfbb-d6096cf5b191",
   "metadata": {},
   "source": [
    "While there are no nulls, expect the price which we expected, the data does have times where Levy uses a \"-\" instead of an actual null value. We'll just replace it to be null"
   ]
  },
  {
   "cell_type": "code",
   "execution_count": null,
   "id": "cb77e20a-5447-42e2-95ae-b09c01a66629",
   "metadata": {},
   "outputs": [],
   "source": [
    "df_combined.replace('-', np.nan, inplace=True)"
   ]
  },
  {
   "cell_type": "code",
   "execution_count": null,
   "id": "664fd271-1b34-479e-a565-ca9cdfebf7a7",
   "metadata": {},
   "outputs": [],
   "source": [
    "df_combined.isnull().sum()"
   ]
  },
  {
   "cell_type": "markdown",
   "id": "450565a1-c626-4a2f-9ef9-00cd766d472b",
   "metadata": {},
   "source": [
    "This shouldn't effect anything since we really care about the price and features related to the car, but it might help in the feature"
   ]
  },
  {
   "cell_type": "markdown",
   "id": "999b4672-0567-437f-b1c1-1b3127ab7049",
   "metadata": {},
   "source": [
    "### Duplicates"
   ]
  },
  {
   "cell_type": "code",
   "execution_count": null,
   "id": "f3984609-be4b-4800-8707-4221aa54fcb3",
   "metadata": {},
   "outputs": [],
   "source": [
    "df_combined.duplicated().value_counts()"
   ]
  },
  {
   "cell_type": "markdown",
   "id": "7197f4c3-0fae-4b3b-af7a-3122b0225784",
   "metadata": {},
   "source": [
    "There are some duplicates so let's just remove them."
   ]
  },
  {
   "cell_type": "code",
   "execution_count": null,
   "id": "fdc0022c-828b-4547-a63a-33ab9e34741a",
   "metadata": {},
   "outputs": [],
   "source": [
    "df_combined = df_combined.drop_duplicates()"
   ]
  },
  {
   "cell_type": "code",
   "execution_count": null,
   "id": "d0343a88-f340-4b58-b81d-45e2d9a23ce6",
   "metadata": {},
   "outputs": [],
   "source": [
    "df_combined.duplicated().value_counts()"
   ]
  },
  {
   "cell_type": "markdown",
   "id": "f9f47d87-20f7-4f70-9bc4-087e06b65c1d",
   "metadata": {},
   "source": [
    "### Checking for unusual types"
   ]
  },
  {
   "cell_type": "code",
   "execution_count": null,
   "id": "4f768b86-7cdc-469b-a2ac-f21235eb9855",
   "metadata": {},
   "outputs": [],
   "source": [
    "df_combined.info()"
   ]
  },
  {
   "cell_type": "markdown",
   "id": "1b274d4a-5c3c-4f81-baff-208f601d0366",
   "metadata": {},
   "source": [
    "Doesn't seem like there are any issues here. I am considered about the doors and wheels being an object over an int, but we'll move on."
   ]
  },
  {
   "cell_type": "markdown",
   "id": "6dd8e7b1-f032-4b1d-be7d-b16a42a286e1",
   "metadata": {},
   "source": [
    "### Splitting back the test and training dfs"
   ]
  },
  {
   "cell_type": "code",
   "execution_count": null,
   "id": "4ffdb104-7d2f-4d08-a0fe-a0c87ea6857a",
   "metadata": {},
   "outputs": [],
   "source": [
    "df = df_combined[df_combined['Price'].notnull()]\n",
    "df.shape"
   ]
  },
  {
   "cell_type": "code",
   "execution_count": null,
   "id": "c7f390da-a823-47fc-a2dc-90af26152273",
   "metadata": {},
   "outputs": [],
   "source": [
    "df_test = df_combined[df_combined['Price'].isna()]\n",
    "df_test.shape"
   ]
  },
  {
   "cell_type": "markdown",
   "id": "5818b38f-ce53-47c4-b2de-1deae2502767",
   "metadata": {},
   "source": [
    "It looks like the merging and separating of orginal rows maintained it's general shape. Some rows were cleaned out so it's not equal to what we started with, but we can now move on to the more intresting part, predicting the car price."
   ]
  },
  {
   "cell_type": "markdown",
   "id": "1bbddb67-d2b0-4c41-a1b4-dd5b3bfa17c0",
   "metadata": {},
   "source": [
    "## Experiment 1: Linear-Regression\n",
    "---"
   ]
  },
  {
   "cell_type": "markdown",
   "id": "fb4d176c-4fcc-4157-ae85-8567febe195e",
   "metadata": {},
   "source": [
    "We're going to start with Linear-Regression. "
   ]
  },
  {
   "cell_type": "code",
   "execution_count": null,
   "id": "ac9d1d3a-cd19-46a2-88cc-85bf68881e9a",
   "metadata": {},
   "outputs": [],
   "source": [
    "33333333333333333333333333333333333333333333333"
   ]
  },
  {
   "cell_type": "code",
   "execution_count": null,
   "id": "acd7f5bd-2939-4fee-b7e0-5817fb2d49de",
   "metadata": {},
   "outputs": [],
   "source": [
    "regr = linear_model.LinearRegression()\n",
    "regr.fit(diabetes_X_train, diabetes_y_train)"
   ]
  },
  {
   "cell_type": "markdown",
   "id": "6aaa06b1-5ba6-415f-937a-04196472d1d7",
   "metadata": {},
   "source": [
    "### Evaluation"
   ]
  },
  {
   "cell_type": "markdown",
   "id": "2a72b6f5-e118-4057-811b-07d7b596f988",
   "metadata": {},
   "source": [
    "## Experiment 2: Different Model\n",
    "---"
   ]
  },
  {
   "cell_type": "markdown",
   "id": "f4e117b7-358a-48b8-b9bc-75e6b33fcefa",
   "metadata": {},
   "source": [
    "## Experiment 3: Changing Data\n",
    "---"
   ]
  },
  {
   "cell_type": "markdown",
   "id": "8d6ecbb4-d87b-497e-bc54-2d5cedb1bafe",
   "metadata": {},
   "source": [
    "## Impact\n",
    "---"
   ]
  },
  {
   "cell_type": "markdown",
   "id": "813f6c4d-e406-4d33-8280-6083d590e5f3",
   "metadata": {},
   "source": [
    "## References\n",
    "---"
   ]
  },
  {
   "cell_type": "code",
   "execution_count": null,
   "id": "408c245d-e71e-4f2b-9ca0-e5b0d4134bfa",
   "metadata": {},
   "outputs": [],
   "source": []
  }
 ],
 "metadata": {
  "kernelspec": {
   "display_name": "Python 3 (ipykernel)",
   "language": "python",
   "name": "python3"
  },
  "language_info": {
   "codemirror_mode": {
    "name": "ipython",
    "version": 3
   },
   "file_extension": ".py",
   "mimetype": "text/x-python",
   "name": "python",
   "nbconvert_exporter": "python",
   "pygments_lexer": "ipython3",
   "version": "3.12.7"
  }
 },
 "nbformat": 4,
 "nbformat_minor": 5
}
