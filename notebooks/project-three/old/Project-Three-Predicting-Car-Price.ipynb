{
 "cells": [
  {
   "cell_type": "markdown",
   "id": "5f7b21f5-0d22-44d2-b433-a228152eebdc",
   "metadata": {},
   "source": [
    "# Project Three: Predicting Car Price With Regression"
   ]
  },
  {
   "cell_type": "markdown",
   "id": "350e19ae-ce6e-4da1-bce6-1713a499f267",
   "metadata": {},
   "source": [
    "<div>\n",
    "<img src=\"../images/car.jpg\" alt=\"car lot image\" width=\"20%\"/>\n",
    "</div>"
   ]
  },
  {
   "cell_type": "markdown",
   "id": "dcd80c77-184a-4dcf-aaab-e52b6c534a2d",
   "metadata": {},
   "source": [
    "## Introduction\n",
    "---"
   ]
  },
  {
   "cell_type": "markdown",
   "id": "d431d6a0-30f1-45ab-baa0-beb63f3d70ae",
   "metadata": {},
   "source": [
    "Cars are an integral part of modern life, serving as a primary mode of transportation and a significant economic asset. With millions of vehicles bought and sold each year, understanding what influences car prices and why it does is crucial for both buyers and sellers. We will need data on factors that will possibly determine a vehicle's value, such as current mileage, make, model, year, car amenity, and engine specifications."
   ]
  },
  {
   "cell_type": "markdown",
   "id": "b39b667d-19e8-4599-9766-e42ae31ea9f0",
   "metadata": {},
   "source": [
    "The [Car Prices Dataset](https://www.kaggle.com/datasets/sidharth178/car-prices-dataset?select=train.csv) provides all those features and more for predicting vehicle prices. Additionally, we will use this dataset to explore other insights, such as identifying which features contribute the most to price variations and understanding trends in car depreciation over time.\n",
    "Some key questions we seek to answer include:\n",
    "- Which factors—such as mileage, engine size, or brand—have the greatest impact on car price?\n",
    "- Can we build an accurate predictive model for car prices using linear regression?\n",
    "- How do different fuel types, transmission types, and drivetrain configurations affect a car’s value?\n",
    "- Is there a pattern in car depreciation based on production year and mileage?\n",
    "\n",
    "To predict a price, we'll use some form of regression. The first Experiment of three will focus on Linear Regression, and then in the next experiment,  we'll use another regression model to see if accuracy improves or not. Finally, in the last experiment, we'll perform some data manipulation to compare how those changes affected both models."
   ]
  },
  {
   "cell_type": "markdown",
   "id": "02d3d20f-e886-41f3-b3e3-70fcba0e6741",
   "metadata": {},
   "source": [
    "The dataset has 18 different features with around 20,000+ total rows. The columns are displayed below and follow with a description:\n",
    "<table>\n",
    "    <tr>\n",
    "        <td><strong>Feature</strong></td>\n",
    "        <td><strong>Description</strong></td>\n",
    "    </tr>\n",
    "    <tr>\n",
    "        <td>ID</td>\n",
    "        <td>Car ID</td>\n",
    "    </tr>\n",
    "    <tr>\n",
    "        <td>Price</td>\n",
    "        <td>The selling price of the car (Target Column)</td>\n",
    "    </tr>\n",
    "    <tr>\n",
    "        <td>Levy</td>\n",
    "        <td>Additional tax or charge on the vehicle</td>\n",
    "    </tr>\n",
    "    <tr>\n",
    "        <td>Manufacturer</td>\n",
    "        <td>The brand or manufacturer of the car</td>\n",
    "    </tr>\n",
    "    <tr>\n",
    "        <td>Model</td>\n",
    "        <td>The specific model of the car</td>\n",
    "    </tr>\n",
    "    <tr>\n",
    "        <td>Prod. year</td>\n",
    "        <td>The year the car was manufactured</td>\n",
    "    </tr>\n",
    "    <tr>\n",
    "        <td>Category</td>\n",
    "        <td>The type of car (e.g., Sedan, Jeep, Hatchback)</td>\n",
    "    </tr>\n",
    "    <tr>\n",
    "        <td>Leather interior</td>\n",
    "        <td>Indicates whether the car has a leather interior (Yes/No)</td>\n",
    "    </tr>\n",
    "    <tr>\n",
    "        <td>Fuel type</td>\n",
    "        <td>The type of fuel the car uses (e.g., Petrol, Diesel, CNG, Hybrid)</td>\n",
    "    </tr>\n",
    "    <tr>\n",
    "        <td>Engine volume</td>\n",
    "        <td>The engine capacity measured in liters (e.g., 2.0L, 3.5L)</td>\n",
    "    </tr>\n",
    "    <tr>\n",
    "        <td>Mileage</td>\n",
    "        <td>The total miles or kilometers the car has been driven</td>\n",
    "    </tr>\n",
    "    <tr>\n",
    "        <td>Cylinders</td>\n",
    "        <td>The number of cylinders in the engine</td>\n",
    "    </tr>\n",
    "    <tr>\n",
    "        <td>Gear box type</td>\n",
    "        <td>The type of transmission (e.g., Automatic, Manual)</td>\n",
    "    </tr>\n",
    "    <tr>\n",
    "        <td>Drive wheels</td>\n",
    "        <td>The drivetrain type (e.g., Front-Wheel Drive, Rear-Wheel Drive, All-Wheel Drive)</td>\n",
    "    </tr>\n",
    "    <tr>\n",
    "        <td>Doors</td>\n",
    "        <td>The number of doors on the vehicle (e.g., 2, 4, >5)</td>\n",
    "    </tr>\n",
    "    <tr>\n",
    "        <td>Wheel</td>\n",
    "        <td>Indicates whether the car is left-hand or right-hand drive</td>\n",
    "    </tr>\n",
    "    <tr>\n",
    "        <td>Color</td>\n",
    "        <td>The exterior color of the car</td>\n",
    "    </tr>\n",
    "    <tr>\n",
    "        <td>Airbags</td>\n",
    "        <td>The number of airbags the vehicle is equipped with</td>\n",
    "    </tr>\n",
    "</table>"
   ]
  },
  {
   "cell_type": "code",
   "execution_count": 32,
   "id": "5baad0cd-e052-413b-bd9b-b0e7d00f4d0c",
   "metadata": {},
   "outputs": [],
   "source": [
    "#Imports\n",
    "import matplotlib.pyplot as plt\n",
    "import numpy as np\n",
    "import pandas as pd\n",
    "import seaborn as sns\n",
    "import statsmodels.api as sm\n",
    "from sklearn import datasets\n",
    "from sklearn.metrics import mean_squared_error, r2_score\n",
    "from sklearn.linear_model import LinearRegression\n",
    "from sklearn.compose import ColumnTransformer\n",
    "from sklearn.preprocessing import OneHotEncoder, OrdinalEncoder, StandardScaler, LabelEncoder\n",
    "from sklearn.pipeline import Pipeline\n",
    "from sklearn.impute import SimpleImputer\n",
    "from sklearn.model_selection import train_test_split\n",
    "from sklearn.metrics import mean_squared_error"
   ]
  },
  {
   "cell_type": "code",
   "execution_count": 33,
   "id": "b5971b64-0ac8-44d0-a101-489d66155e39",
   "metadata": {},
   "outputs": [
    {
     "data": {
      "text/html": [
       "<div>\n",
       "<style scoped>\n",
       "    .dataframe tbody tr th:only-of-type {\n",
       "        vertical-align: middle;\n",
       "    }\n",
       "\n",
       "    .dataframe tbody tr th {\n",
       "        vertical-align: top;\n",
       "    }\n",
       "\n",
       "    .dataframe thead th {\n",
       "        text-align: right;\n",
       "    }\n",
       "</style>\n",
       "<table border=\"1\" class=\"dataframe\">\n",
       "  <thead>\n",
       "    <tr style=\"text-align: right;\">\n",
       "      <th></th>\n",
       "      <th>ID</th>\n",
       "      <th>Price</th>\n",
       "      <th>Levy</th>\n",
       "      <th>Manufacturer</th>\n",
       "      <th>Model</th>\n",
       "      <th>Prod. year</th>\n",
       "      <th>Category</th>\n",
       "      <th>Leather interior</th>\n",
       "      <th>Fuel type</th>\n",
       "      <th>Engine volume</th>\n",
       "      <th>Mileage</th>\n",
       "      <th>Cylinders</th>\n",
       "      <th>Gear box type</th>\n",
       "      <th>Drive wheels</th>\n",
       "      <th>Doors</th>\n",
       "      <th>Wheel</th>\n",
       "      <th>Color</th>\n",
       "      <th>Airbags</th>\n",
       "    </tr>\n",
       "  </thead>\n",
       "  <tbody>\n",
       "    <tr>\n",
       "      <th>0</th>\n",
       "      <td>45654403</td>\n",
       "      <td>13328</td>\n",
       "      <td>1399</td>\n",
       "      <td>LEXUS</td>\n",
       "      <td>RX 450</td>\n",
       "      <td>2010</td>\n",
       "      <td>Jeep</td>\n",
       "      <td>Yes</td>\n",
       "      <td>Hybrid</td>\n",
       "      <td>3.5</td>\n",
       "      <td>186005 km</td>\n",
       "      <td>6.0</td>\n",
       "      <td>Automatic</td>\n",
       "      <td>4x4</td>\n",
       "      <td>04-May</td>\n",
       "      <td>Left wheel</td>\n",
       "      <td>Silver</td>\n",
       "      <td>12</td>\n",
       "    </tr>\n",
       "    <tr>\n",
       "      <th>1</th>\n",
       "      <td>44731507</td>\n",
       "      <td>16621</td>\n",
       "      <td>1018</td>\n",
       "      <td>CHEVROLET</td>\n",
       "      <td>Equinox</td>\n",
       "      <td>2011</td>\n",
       "      <td>Jeep</td>\n",
       "      <td>No</td>\n",
       "      <td>Petrol</td>\n",
       "      <td>3</td>\n",
       "      <td>192000 km</td>\n",
       "      <td>6.0</td>\n",
       "      <td>Tiptronic</td>\n",
       "      <td>4x4</td>\n",
       "      <td>04-May</td>\n",
       "      <td>Left wheel</td>\n",
       "      <td>Black</td>\n",
       "      <td>8</td>\n",
       "    </tr>\n",
       "    <tr>\n",
       "      <th>2</th>\n",
       "      <td>45774419</td>\n",
       "      <td>8467</td>\n",
       "      <td>-</td>\n",
       "      <td>HONDA</td>\n",
       "      <td>FIT</td>\n",
       "      <td>2006</td>\n",
       "      <td>Hatchback</td>\n",
       "      <td>No</td>\n",
       "      <td>Petrol</td>\n",
       "      <td>1.3</td>\n",
       "      <td>200000 km</td>\n",
       "      <td>4.0</td>\n",
       "      <td>Variator</td>\n",
       "      <td>Front</td>\n",
       "      <td>04-May</td>\n",
       "      <td>Right-hand drive</td>\n",
       "      <td>Black</td>\n",
       "      <td>2</td>\n",
       "    </tr>\n",
       "    <tr>\n",
       "      <th>3</th>\n",
       "      <td>45769185</td>\n",
       "      <td>3607</td>\n",
       "      <td>862</td>\n",
       "      <td>FORD</td>\n",
       "      <td>Escape</td>\n",
       "      <td>2011</td>\n",
       "      <td>Jeep</td>\n",
       "      <td>Yes</td>\n",
       "      <td>Hybrid</td>\n",
       "      <td>2.5</td>\n",
       "      <td>168966 km</td>\n",
       "      <td>4.0</td>\n",
       "      <td>Automatic</td>\n",
       "      <td>4x4</td>\n",
       "      <td>04-May</td>\n",
       "      <td>Left wheel</td>\n",
       "      <td>White</td>\n",
       "      <td>0</td>\n",
       "    </tr>\n",
       "    <tr>\n",
       "      <th>4</th>\n",
       "      <td>45809263</td>\n",
       "      <td>11726</td>\n",
       "      <td>446</td>\n",
       "      <td>HONDA</td>\n",
       "      <td>FIT</td>\n",
       "      <td>2014</td>\n",
       "      <td>Hatchback</td>\n",
       "      <td>Yes</td>\n",
       "      <td>Petrol</td>\n",
       "      <td>1.3</td>\n",
       "      <td>91901 km</td>\n",
       "      <td>4.0</td>\n",
       "      <td>Automatic</td>\n",
       "      <td>Front</td>\n",
       "      <td>04-May</td>\n",
       "      <td>Left wheel</td>\n",
       "      <td>Silver</td>\n",
       "      <td>4</td>\n",
       "    </tr>\n",
       "  </tbody>\n",
       "</table>\n",
       "</div>"
      ],
      "text/plain": [
       "         ID  Price  Levy Manufacturer    Model  Prod. year   Category  \\\n",
       "0  45654403  13328  1399        LEXUS   RX 450        2010       Jeep   \n",
       "1  44731507  16621  1018    CHEVROLET  Equinox        2011       Jeep   \n",
       "2  45774419   8467     -        HONDA      FIT        2006  Hatchback   \n",
       "3  45769185   3607   862         FORD   Escape        2011       Jeep   \n",
       "4  45809263  11726   446        HONDA      FIT        2014  Hatchback   \n",
       "\n",
       "  Leather interior Fuel type Engine volume    Mileage  Cylinders  \\\n",
       "0              Yes    Hybrid           3.5  186005 km        6.0   \n",
       "1               No    Petrol             3  192000 km        6.0   \n",
       "2               No    Petrol           1.3  200000 km        4.0   \n",
       "3              Yes    Hybrid           2.5  168966 km        4.0   \n",
       "4              Yes    Petrol           1.3   91901 km        4.0   \n",
       "\n",
       "  Gear box type Drive wheels   Doors             Wheel   Color  Airbags  \n",
       "0     Automatic          4x4  04-May        Left wheel  Silver       12  \n",
       "1     Tiptronic          4x4  04-May        Left wheel   Black        8  \n",
       "2      Variator        Front  04-May  Right-hand drive   Black        2  \n",
       "3     Automatic          4x4  04-May        Left wheel   White        0  \n",
       "4     Automatic        Front  04-May        Left wheel  Silver        4  "
      ]
     },
     "execution_count": 33,
     "metadata": {},
     "output_type": "execute_result"
    }
   ],
   "source": [
    "#dataset\n",
    "df = pd.read_csv('train.csv')\n",
    "df.head()"
   ]
  },
  {
   "cell_type": "markdown",
   "id": "f07c0084-2317-42d3-b0d2-beb80ea6014a",
   "metadata": {},
   "source": [
    "## Pre-processing\n",
    "---"
   ]
  },
  {
   "cell_type": "markdown",
   "id": "eecf8351-7dda-4e06-b396-9b8f41ae86c8",
   "metadata": {},
   "source": [
    "There are quite a few things I want to clean up from the dataset, but let's start with the basics"
   ]
  },
  {
   "cell_type": "code",
   "execution_count": 34,
   "id": "47a55052-8ca8-44d6-a279-db765820fddd",
   "metadata": {},
   "outputs": [
    {
     "ename": "AttributeError",
     "evalue": "'NoneType' object has no attribute 'head'",
     "output_type": "error",
     "traceback": [
      "\u001b[1;31m---------------------------------------------------------------------------\u001b[0m",
      "\u001b[1;31mAttributeError\u001b[0m                            Traceback (most recent call last)",
      "Cell \u001b[1;32mIn[34], line 3\u001b[0m\n\u001b[0;32m      1\u001b[0m df[\u001b[38;5;124m'\u001b[39m\u001b[38;5;124mNameplate\u001b[39m\u001b[38;5;124m'\u001b[39m] \u001b[38;5;241m=\u001b[39m df[\u001b[38;5;124m'\u001b[39m\u001b[38;5;124mManufacturer\u001b[39m\u001b[38;5;124m'\u001b[39m] \u001b[38;5;241m+\u001b[39m \u001b[38;5;124m'\u001b[39m\u001b[38;5;124m \u001b[39m\u001b[38;5;124m'\u001b[39m \u001b[38;5;241m+\u001b[39m df[\u001b[38;5;124m'\u001b[39m\u001b[38;5;124mModel\u001b[39m\u001b[38;5;124m'\u001b[39m]\n\u001b[0;32m      2\u001b[0m df \u001b[38;5;241m=\u001b[39m df\u001b[38;5;241m.\u001b[39mdrop([\u001b[38;5;124m'\u001b[39m\u001b[38;5;124mManufacturer\u001b[39m\u001b[38;5;124m'\u001b[39m, \u001b[38;5;124m'\u001b[39m\u001b[38;5;124mModel\u001b[39m\u001b[38;5;124m'\u001b[39m], axis \u001b[38;5;241m=\u001b[39m \u001b[38;5;241m1\u001b[39m, inplace \u001b[38;5;241m=\u001b[39m \u001b[38;5;28;01mTrue\u001b[39;00m)\n\u001b[1;32m----> 3\u001b[0m df\u001b[38;5;241m.\u001b[39mhead()\n",
      "\u001b[1;31mAttributeError\u001b[0m: 'NoneType' object has no attribute 'head'"
     ]
    }
   ],
   "source": [
    "df['Nameplate'] = df['Manufacturer'] + ' ' + df['Model']\n",
    "df = df.drop(['Manufacturer', 'Model'], axis = 1, inplace = True)\n",
    "df = df[['Nameplate', 'Year', 'Engine_Size','Fuel_Type','Transmission','Mileage','Doors','Owner_Count', 'Price']]\n",
    "Price\tLevy\tManufacturer\tModel\tProd. year\tCategory\tLeather interior\tFuel type\tEngine volume\tMileage\tCylinders\tGear box type\tDrive wheels\tDoors\tWheel\tColor\tAirbags\n",
    "df.head()"
   ]
  },
  {
   "cell_type": "markdown",
   "id": "86ac7205-4fc8-47c3-a476-bf21365ea769",
   "metadata": {},
   "source": [
    "### Handling nulls"
   ]
  },
  {
   "cell_type": "code",
   "execution_count": null,
   "id": "4705f3cc-bec9-4510-9b88-7e65312efcf9",
   "metadata": {},
   "outputs": [],
   "source": [
    "df.isnull().sum()"
   ]
  },
  {
   "cell_type": "markdown",
   "id": "4ca93045-1e9e-4549-bfbb-d6096cf5b191",
   "metadata": {},
   "source": [
    "While there are no nulls, expect the price which we expected, the data does have times where Levy uses a \"-\" instead of an actual null value. We'll just replace it to be 0."
   ]
  },
  {
   "cell_type": "code",
   "execution_count": null,
   "id": "cb77e20a-5447-42e2-95ae-b09c01a66629",
   "metadata": {},
   "outputs": [],
   "source": [
    "df.replace('-', 0, inplace=True)"
   ]
  },
  {
   "cell_type": "code",
   "execution_count": null,
   "id": "664fd271-1b34-479e-a565-ca9cdfebf7a7",
   "metadata": {},
   "outputs": [],
   "source": [
    "df.isnull().sum()"
   ]
  },
  {
   "cell_type": "markdown",
   "id": "450565a1-c626-4a2f-9ef9-00cd766d472b",
   "metadata": {},
   "source": [
    "This shouldn't effect anything since we really care about the price and features related to the car, but it might help in the feature"
   ]
  },
  {
   "cell_type": "markdown",
   "id": "999b4672-0567-437f-b1c1-1b3127ab7049",
   "metadata": {},
   "source": [
    "### Duplicates"
   ]
  },
  {
   "cell_type": "code",
   "execution_count": null,
   "id": "f3984609-be4b-4800-8707-4221aa54fcb3",
   "metadata": {},
   "outputs": [],
   "source": [
    "df.duplicated().value_counts()"
   ]
  },
  {
   "cell_type": "markdown",
   "id": "7197f4c3-0fae-4b3b-af7a-3122b0225784",
   "metadata": {},
   "source": [
    "There are some duplicates so let's just remove them."
   ]
  },
  {
   "cell_type": "code",
   "execution_count": null,
   "id": "fdc0022c-828b-4547-a63a-33ab9e34741a",
   "metadata": {},
   "outputs": [],
   "source": [
    "df = df.drop_duplicates()"
   ]
  },
  {
   "cell_type": "code",
   "execution_count": null,
   "id": "d0343a88-f340-4b58-b81d-45e2d9a23ce6",
   "metadata": {},
   "outputs": [],
   "source": [
    "df.duplicated().value_counts()"
   ]
  },
  {
   "cell_type": "markdown",
   "id": "13db2e3f-d6de-4d57-a68e-713bee15c372",
   "metadata": {},
   "source": [
    "### Dropping ID"
   ]
  },
  {
   "cell_type": "markdown",
   "id": "ffd6f264-8a5c-4ae3-b89e-4914812ef9e3",
   "metadata": {},
   "source": [
    "We don't need the ID as it shouldn't affect the price at all. Let's just drop it"
   ]
  },
  {
   "cell_type": "code",
   "execution_count": null,
   "id": "b5620b0e-c35d-4a8c-b865-c6b4c15362b0",
   "metadata": {},
   "outputs": [],
   "source": [
    "df = df.drop(\"ID\", axis=1)"
   ]
  },
  {
   "cell_type": "markdown",
   "id": "f9f47d87-20f7-4f70-9bc4-087e06b65c1d",
   "metadata": {},
   "source": [
    "### Changing types from object to number"
   ]
  },
  {
   "cell_type": "markdown",
   "id": "992e5ba7-9c47-4da0-831b-899d7fb9658a",
   "metadata": {},
   "source": [
    "There are quite a few features that could be represented by a number instead of an object so lets change those."
   ]
  },
  {
   "cell_type": "code",
   "execution_count": null,
   "id": "4f768b86-7cdc-469b-a2ac-f21235eb9855",
   "metadata": {},
   "outputs": [],
   "source": [
    "df.info()"
   ]
  },
  {
   "cell_type": "code",
   "execution_count": null,
   "id": "3b048c28-a4da-4e7c-8c60-663dcaa2bb14",
   "metadata": {},
   "outputs": [],
   "source": [
    "df[\"Mileage\"] = df[\"Mileage\"].str.replace(' km', '', regex=True).astype(int)\n",
    "df['Levy'] = df['Levy'].astype(int)"
   ]
  },
  {
   "cell_type": "code",
   "execution_count": null,
   "id": "410514c5-b7b3-4bec-9f3a-89a1163f6d8d",
   "metadata": {},
   "outputs": [],
   "source": [
    "for column in df.columns:\n",
    "    if(column == \"Doors\" or column == \"Mileage\"):\n",
    "        print(df[column].value_counts())\n",
    "        print(\"\\n\" + \"-\"*50 + \"\\n\")"
   ]
  },
  {
   "cell_type": "code",
   "execution_count": null,
   "id": "d8338820-c952-4c9f-a53d-8b6a168dbd69",
   "metadata": {},
   "outputs": [],
   "source": [
    "df.info()"
   ]
  },
  {
   "cell_type": "markdown",
   "id": "992724f7-55cf-4f49-a7e7-5f7a2153923f",
   "metadata": {},
   "source": [
    "## Data Analysis \n",
    "---"
   ]
  },
  {
   "cell_type": "markdown",
   "id": "7b0d5938-5433-4474-a3a8-549a96210d22",
   "metadata": {},
   "source": [
    "Let's visual some data to see if we can identify important piece's of data before we actual make a prediction. I'll be using the LabelEncoder() from sklearn to converting all categories to numbers so we can use a heat map"
   ]
  },
  {
   "cell_type": "code",
   "execution_count": null,
   "id": "8c6a93fe-9e40-495f-b939-345e8df7e861",
   "metadata": {},
   "outputs": [],
   "source": [
    "# simple function to see our distrbutions for categorical variables we encoded\n",
    "def plot_category_distribution(prefix, title):\n",
    "    category_columns = [col for col in df.columns if col.startswith(prefix)]\n",
    "    category_counts = df[category_columns].sum()\n",
    "\n",
    "    plt.figure(figsize=(8, 5))\n",
    "    sns.barplot(x=category_counts.index, y=category_counts.values, palette=\"viridis\")\n",
    "\n",
    "    plt.title(f\"Distribution of {title}\", fontsize=14)\n",
    "    plt.xlabel(title, fontsize=12)\n",
    "    plt.ylabel(\"Count\", fontsize=12)\n",
    "    plt.xticks(rotation=45)\n",
    "    plt.grid(axis=\"y\", linestyle=\"--\", alpha=0.7)\n",
    "\n",
    "\n",
    "    plt.show()"
   ]
  },
  {
   "cell_type": "code",
   "execution_count": null,
   "id": "4b71bbf0-ddde-4839-8124-9b6a02fbf174",
   "metadata": {},
   "outputs": [],
   "source": [
    "plot_category_distribution(\"Traffic_Level_\", \"Traffic Levels\")"
   ]
  },
  {
   "cell_type": "code",
   "execution_count": null,
   "id": "914be96e-8d34-4914-ab5e-94fcc8b8c5f9",
   "metadata": {},
   "outputs": [],
   "source": [
    "cat = df.select_dtypes(include='O')\n",
    "encoder = list(cat)\n",
    "df[encoder] = df[encoder].apply(lambda col: LabelEncoder().fit_transform(col))"
   ]
  },
  {
   "cell_type": "code",
   "execution_count": null,
   "id": "e4015303-0451-434b-8626-232a0837fad4",
   "metadata": {},
   "outputs": [],
   "source": [
    "plt.figure(figsize=(14,7))\n",
    "sns.heatmap(df.corr(),annot=True)"
   ]
  },
  {
   "cell_type": "markdown",
   "id": "1bbddb67-d2b0-4c41-a1b4-dd5b3bfa17c0",
   "metadata": {},
   "source": [
    "## Experiment 1: Linear-Regression\n",
    "---"
   ]
  },
  {
   "cell_type": "markdown",
   "id": "fb4d176c-4fcc-4157-ae85-8567febe195e",
   "metadata": {},
   "source": [
    "We're going to start with Linear-Regression. "
   ]
  },
  {
   "cell_type": "code",
   "execution_count": null,
   "id": "db39d215-c933-4ad5-a374-40275dfd7031",
   "metadata": {},
   "outputs": [],
   "source": [
    "#Splitting the data\n",
    "X = df.drop(\"Price\", axis=1)\n",
    "y = df[\"Price\"]\n",
    "X_train, X_test, y_train, y_test = train_test_split(X, y, test_size=0.2, random_state=42)"
   ]
  },
  {
   "cell_type": "code",
   "execution_count": null,
   "id": "7ff6e255-922f-4cd8-95cf-5b84246acdbd",
   "metadata": {},
   "outputs": [],
   "source": [
    "mlr_model = sm.OLS(y_train, X_train).fit()\n",
    "print(mlr_model.summary())"
   ]
  },
  {
   "cell_type": "markdown",
   "id": "6aaa06b1-5ba6-415f-937a-04196472d1d7",
   "metadata": {},
   "source": [
    "### Evaluation"
   ]
  },
  {
   "cell_type": "code",
   "execution_count": null,
   "id": "249c00da-6468-4db8-a429-7e7d0a34794d",
   "metadata": {},
   "outputs": [],
   "source": []
  },
  {
   "cell_type": "markdown",
   "id": "2a72b6f5-e118-4057-811b-07d7b596f988",
   "metadata": {},
   "source": [
    "## Experiment 2: Different Model\n",
    "---"
   ]
  },
  {
   "cell_type": "markdown",
   "id": "f4e117b7-358a-48b8-b9bc-75e6b33fcefa",
   "metadata": {},
   "source": [
    "## Experiment 3: Changing Data\n",
    "---"
   ]
  },
  {
   "cell_type": "markdown",
   "id": "8d6ecbb4-d87b-497e-bc54-2d5cedb1bafe",
   "metadata": {},
   "source": [
    "## Impact\n",
    "---"
   ]
  },
  {
   "cell_type": "markdown",
   "id": "813f6c4d-e406-4d33-8280-6083d590e5f3",
   "metadata": {},
   "source": [
    "## References\n",
    "---"
   ]
  },
  {
   "cell_type": "code",
   "execution_count": null,
   "id": "25633332-8f3a-4f33-9144-65332c772ba4",
   "metadata": {},
   "outputs": [],
   "source": []
  }
 ],
 "metadata": {
  "kernelspec": {
   "display_name": "Python 3 (ipykernel)",
   "language": "python",
   "name": "python3"
  },
  "language_info": {
   "codemirror_mode": {
    "name": "ipython",
    "version": 3
   },
   "file_extension": ".py",
   "mimetype": "text/x-python",
   "name": "python",
   "nbconvert_exporter": "python",
   "pygments_lexer": "ipython3",
   "version": "3.12.7"
  }
 },
 "nbformat": 4,
 "nbformat_minor": 5
}
