{
 "cells": [
  {
   "cell_type": "markdown",
   "id": "5f7b21f5-0d22-44d2-b433-a228152eebdc",
   "metadata": {},
   "source": [
    "# Project Three: Predicting House Price With Regression"
   ]
  },
  {
   "cell_type": "markdown",
   "id": "350e19ae-ce6e-4da1-bce6-1713a499f267",
   "metadata": {},
   "source": [
    "<div>\n",
    "<img src=\"../images/house.jpg\" alt=\"house image\" width=\"20%\"/>\n",
    "</div>"
   ]
  },
  {
   "cell_type": "markdown",
   "id": "dcd80c77-184a-4dcf-aaab-e52b6c534a2d",
   "metadata": {},
   "source": [
    "## Introduction\n",
    "---"
   ]
  },
  {
   "cell_type": "markdown",
   "id": "71bddb60-6a82-4aa3-a1c4-6e98651db741",
   "metadata": {},
   "source": [
    "The [Kaggle House Price Competition](https://www.kaggle.com/c/house-prices-advanced-regression-techniques/overview) is a competition in which users try and get the best prediction of housing. Kaggle evaluates a submission on the \"Root-Mean-Squared-Error (RMSE) between the logarithm of the predicted value and the logarithm of the observed sales price\"."
   ]
  },
  {
   "cell_type": "markdown",
   "id": "b39b667d-19e8-4599-9766-e42ae31ea9f0",
   "metadata": {},
   "source": [
    "Both the training and testing sets are provided with the training set used for predicting housing prices, and the testing set used as a reference but without the price. Additionally, we will use this dataset to explore other insights, such as identifying which features contribute the most to price variations.\n",
    "Some key questions we seek to answer include:\n",
    "- How \"good\" can we get the predicted price?\n",
    "- Can we build an accurate predictive model for housing prices using linear regression?\n",
    "- How do different sizes, and qualities affect a house’s value?\n",
    "\n",
    "To predict a price, we'll use some form of regression. The first Experiment of three will focus on Linear Regression, and then in the next experiment,  we'll use another regression model to see if accuracy improves or not. Finally, in the last experiment, we'll perform some data manipulation to compare how those changes affected both models.\n",
    "\n",
    "<strong>For this draft, I'll not be submitting to kaggle and instead just split the training data and evaluate the RMSE myself</strong>"
   ]
  },
  {
   "cell_type": "markdown",
   "id": "02d3d20f-e886-41f3-b3e3-70fcba0e6741",
   "metadata": {},
   "source": [
    "The dataset has ~80 different features with around 1,400+ total rows. The columns are displayed below and follow with a description:\n",
    "<table>\n",
    "    <tr>\n",
    "        <td><strong>Feature</strong></td>\n",
    "        <td><strong>Description</strong></td>\n",
    "    </tr>\n",
    "    <tr>\n",
    "        <td>SalePrice</td>\n",
    "        <td>The property's sale price in dollars <strong>(Target Variable)</strong></td>\n",
    "    </tr>\n",
    "    <tr>\n",
    "        <td>MSSubClass</td>\n",
    "        <td>The building class (e.g., single-family detached, townhouse)</td>\n",
    "    </tr>\n",
    "    <tr>\n",
    "        <td>MSZoning</td>\n",
    "        <td>The general zoning classification (e.g., residential, commercial)</td>\n",
    "    </tr>\n",
    "    <tr>\n",
    "        <td>LotFrontage</td>\n",
    "        <td>Linear feet of street connected to the property</td>\n",
    "    </tr>\n",
    "    <tr>\n",
    "        <td>LotArea</td>\n",
    "        <td>Lot size in square feet</td>\n",
    "    </tr>\n",
    "    <tr>\n",
    "        <td>Street</td>\n",
    "        <td>Type of road access (e.g., paved, gravel)</td>\n",
    "    </tr>\n",
    "    <tr>\n",
    "        <td>Alley</td>\n",
    "        <td>Type of alley access (if any)</td>\n",
    "    </tr>\n",
    "    <tr>\n",
    "        <td>LotShape</td>\n",
    "        <td>General shape of the property</td>\n",
    "    </tr>\n",
    "    <tr>\n",
    "        <td>LandContour</td>\n",
    "        <td>Flatness of the property</td>\n",
    "    </tr>\n",
    "    <tr>\n",
    "        <td>Utilities</td>\n",
    "        <td>Type of utilities available (e.g., gas, electric, water)</td>\n",
    "    </tr>\n",
    "    <tr>\n",
    "        <td>LotConfig</td>\n",
    "        <td>Lot configuration (e.g., corner lot, inside lot)</td>\n",
    "    </tr>\n",
    "    <tr>\n",
    "        <td>LandSlope</td>\n",
    "        <td>Slope of the property</td>\n",
    "    </tr>\n",
    "    <tr>\n",
    "        <td>Neighborhood</td>\n",
    "        <td>Physical location within Ames city limits</td>\n",
    "    </tr>\n",
    "    <tr>\n",
    "        <td>Condition1</td>\n",
    "        <td>Proximity to main roads or railroads</td>\n",
    "    </tr>\n",
    "    <tr>\n",
    "        <td>Condition2</td>\n",
    "        <td>Proximity to main roads or railroads (if a second is present)</td>\n",
    "    </tr>\n",
    "    <tr>\n",
    "        <td>BldgType</td>\n",
    "        <td>Type of dwelling (e.g., single-family, duplex)</td>\n",
    "    </tr>\n",
    "    <tr>\n",
    "        <td>HouseStyle</td>\n",
    "        <td>Style of dwelling (e.g., one-story, two-story, split-level)</td>\n",
    "    </tr>\n",
    "    <tr>\n",
    "        <td>OverallQual</td>\n",
    "        <td>Overall material and finish quality (rated 1-10)</td>\n",
    "    </tr>\n",
    "    <tr>\n",
    "        <td>OverallCond</td>\n",
    "        <td>Overall condition rating of the house</td>\n",
    "    </tr>\n",
    "    <tr>\n",
    "        <td>YearBuilt</td>\n",
    "        <td>Original construction date of the house</td>\n",
    "    </tr>\n",
    "    <tr>\n",
    "        <td>YearRemodAdd</td>\n",
    "        <td>Year the house was remodeled or an addition was made</td>\n",
    "    </tr>\n",
    "    <tr>\n",
    "        <td>RoofStyle</td>\n",
    "        <td>Type of roof (e.g., gable, hip)</td>\n",
    "    </tr>\n",
    "    <tr>\n",
    "        <td>RoofMatl</td>\n",
    "        <td>Material of the roof</td>\n",
    "    </tr>\n",
    "    <tr>\n",
    "        <td>Exterior1st</td>\n",
    "        <td>Primary exterior covering of the house</td>\n",
    "    </tr>\n",
    "    <tr>\n",
    "        <td>Exterior2nd</td>\n",
    "        <td>Secondary exterior covering (if present)</td>\n",
    "    </tr>\n",
    "    <tr>\n",
    "        <td>MasVnrType</td>\n",
    "        <td>Masonry veneer type (e.g., brick, stone, none)</td>\n",
    "    </tr>\n",
    "    <tr>\n",
    "        <td>MasVnrArea</td>\n",
    "        <td>Masonry veneer area in square feet</td>\n",
    "    </tr>\n",
    "    <tr>\n",
    "        <td>ExterQual</td>\n",
    "        <td>Exterior material quality rating</td>\n",
    "    </tr>\n",
    "    <tr>\n",
    "        <td>ExterCond</td>\n",
    "        <td>Present condition of the material on the exterior</td>\n",
    "    </tr>\n",
    "    <tr>\n",
    "        <td>Foundation</td>\n",
    "        <td>Type of foundation (e.g., slab, crawl space, basement)</td>\n",
    "    </tr>\n",
    "    <tr>\n",
    "        <td>BsmtQual</td>\n",
    "        <td>Height of the basement</td>\n",
    "    </tr>\n",
    "    <tr>\n",
    "        <td>BsmtCond</td>\n",
    "        <td>General condition of the basement</td>\n",
    "    </tr>\n",
    "    <tr>\n",
    "        <td>GarageType</td>\n",
    "        <td>Location of the garage (e.g., attached, detached, built-in)</td>\n",
    "    </tr>\n",
    "    <tr>\n",
    "        <td>GarageCars</td>\n",
    "        <td>Size of the garage in terms of car capacity</td>\n",
    "    </tr>\n",
    "    <tr>\n",
    "        <td>GarageArea</td>\n",
    "        <td>Size of the garage in square feet</td>\n",
    "    </tr>\n",
    "    <tr>\n",
    "        <td>PavedDrive</td>\n",
    "        <td>Whether the driveway is paved</td>\n",
    "    </tr>\n",
    "    <tr>\n",
    "        <td>MoSold</td>\n",
    "        <td>Month the house was sold</td>\n",
    "    </tr>\n",
    "    <tr>\n",
    "        <td>YrSold</td>\n",
    "        <td>Year the house was sold</td>\n",
    "    </tr>\n",
    "    <tr>\n",
    "        <td>SaleType</td>\n",
    "        <td>Type of sale (e.g., normal, foreclosure, auction)</td>\n",
    "    </tr>\n",
    "    <tr>\n",
    "        <td>SaleCondition</td>\n",
    "        <td>Condition of sale (e.g., family sale, partial sale, normal sale)</td>\n",
    "    </tr>\n",
    "</table>\n"
   ]
  },
  {
   "cell_type": "code",
   "execution_count": 1,
   "id": "5baad0cd-e052-413b-bd9b-b0e7d00f4d0c",
   "metadata": {},
   "outputs": [],
   "source": [
    "#Imports\n",
    "import numpy as np\n",
    "import pandas as pd\n",
    "import seaborn as sns\n",
    "import matplotlib.pyplot as plt\n",
    "import statsmodels.api as sm\n",
    "\n",
    "from sklearn.model_selection import train_test_split\n",
    "from sklearn.linear_model import LinearRegression\n",
    "from sklearn.metrics import mean_squared_error\n",
    "from sklearn.metrics import r2_score"
   ]
  },
  {
   "cell_type": "code",
   "execution_count": 2,
   "id": "b5971b64-0ac8-44d0-a101-489d66155e39",
   "metadata": {},
   "outputs": [
    {
     "data": {
      "text/html": [
       "<div>\n",
       "<style scoped>\n",
       "    .dataframe tbody tr th:only-of-type {\n",
       "        vertical-align: middle;\n",
       "    }\n",
       "\n",
       "    .dataframe tbody tr th {\n",
       "        vertical-align: top;\n",
       "    }\n",
       "\n",
       "    .dataframe thead th {\n",
       "        text-align: right;\n",
       "    }\n",
       "</style>\n",
       "<table border=\"1\" class=\"dataframe\">\n",
       "  <thead>\n",
       "    <tr style=\"text-align: right;\">\n",
       "      <th></th>\n",
       "      <th>Id</th>\n",
       "      <th>MSSubClass</th>\n",
       "      <th>MSZoning</th>\n",
       "      <th>LotFrontage</th>\n",
       "      <th>LotArea</th>\n",
       "      <th>Street</th>\n",
       "      <th>Alley</th>\n",
       "      <th>LotShape</th>\n",
       "      <th>LandContour</th>\n",
       "      <th>Utilities</th>\n",
       "      <th>...</th>\n",
       "      <th>PoolArea</th>\n",
       "      <th>PoolQC</th>\n",
       "      <th>Fence</th>\n",
       "      <th>MiscFeature</th>\n",
       "      <th>MiscVal</th>\n",
       "      <th>MoSold</th>\n",
       "      <th>YrSold</th>\n",
       "      <th>SaleType</th>\n",
       "      <th>SaleCondition</th>\n",
       "      <th>SalePrice</th>\n",
       "    </tr>\n",
       "  </thead>\n",
       "  <tbody>\n",
       "    <tr>\n",
       "      <th>0</th>\n",
       "      <td>1</td>\n",
       "      <td>60</td>\n",
       "      <td>RL</td>\n",
       "      <td>65.0</td>\n",
       "      <td>8450</td>\n",
       "      <td>Pave</td>\n",
       "      <td>NaN</td>\n",
       "      <td>Reg</td>\n",
       "      <td>Lvl</td>\n",
       "      <td>AllPub</td>\n",
       "      <td>...</td>\n",
       "      <td>0</td>\n",
       "      <td>NaN</td>\n",
       "      <td>NaN</td>\n",
       "      <td>NaN</td>\n",
       "      <td>0</td>\n",
       "      <td>2</td>\n",
       "      <td>2008</td>\n",
       "      <td>WD</td>\n",
       "      <td>Normal</td>\n",
       "      <td>208500</td>\n",
       "    </tr>\n",
       "    <tr>\n",
       "      <th>1</th>\n",
       "      <td>2</td>\n",
       "      <td>20</td>\n",
       "      <td>RL</td>\n",
       "      <td>80.0</td>\n",
       "      <td>9600</td>\n",
       "      <td>Pave</td>\n",
       "      <td>NaN</td>\n",
       "      <td>Reg</td>\n",
       "      <td>Lvl</td>\n",
       "      <td>AllPub</td>\n",
       "      <td>...</td>\n",
       "      <td>0</td>\n",
       "      <td>NaN</td>\n",
       "      <td>NaN</td>\n",
       "      <td>NaN</td>\n",
       "      <td>0</td>\n",
       "      <td>5</td>\n",
       "      <td>2007</td>\n",
       "      <td>WD</td>\n",
       "      <td>Normal</td>\n",
       "      <td>181500</td>\n",
       "    </tr>\n",
       "    <tr>\n",
       "      <th>2</th>\n",
       "      <td>3</td>\n",
       "      <td>60</td>\n",
       "      <td>RL</td>\n",
       "      <td>68.0</td>\n",
       "      <td>11250</td>\n",
       "      <td>Pave</td>\n",
       "      <td>NaN</td>\n",
       "      <td>IR1</td>\n",
       "      <td>Lvl</td>\n",
       "      <td>AllPub</td>\n",
       "      <td>...</td>\n",
       "      <td>0</td>\n",
       "      <td>NaN</td>\n",
       "      <td>NaN</td>\n",
       "      <td>NaN</td>\n",
       "      <td>0</td>\n",
       "      <td>9</td>\n",
       "      <td>2008</td>\n",
       "      <td>WD</td>\n",
       "      <td>Normal</td>\n",
       "      <td>223500</td>\n",
       "    </tr>\n",
       "    <tr>\n",
       "      <th>3</th>\n",
       "      <td>4</td>\n",
       "      <td>70</td>\n",
       "      <td>RL</td>\n",
       "      <td>60.0</td>\n",
       "      <td>9550</td>\n",
       "      <td>Pave</td>\n",
       "      <td>NaN</td>\n",
       "      <td>IR1</td>\n",
       "      <td>Lvl</td>\n",
       "      <td>AllPub</td>\n",
       "      <td>...</td>\n",
       "      <td>0</td>\n",
       "      <td>NaN</td>\n",
       "      <td>NaN</td>\n",
       "      <td>NaN</td>\n",
       "      <td>0</td>\n",
       "      <td>2</td>\n",
       "      <td>2006</td>\n",
       "      <td>WD</td>\n",
       "      <td>Abnorml</td>\n",
       "      <td>140000</td>\n",
       "    </tr>\n",
       "    <tr>\n",
       "      <th>4</th>\n",
       "      <td>5</td>\n",
       "      <td>60</td>\n",
       "      <td>RL</td>\n",
       "      <td>84.0</td>\n",
       "      <td>14260</td>\n",
       "      <td>Pave</td>\n",
       "      <td>NaN</td>\n",
       "      <td>IR1</td>\n",
       "      <td>Lvl</td>\n",
       "      <td>AllPub</td>\n",
       "      <td>...</td>\n",
       "      <td>0</td>\n",
       "      <td>NaN</td>\n",
       "      <td>NaN</td>\n",
       "      <td>NaN</td>\n",
       "      <td>0</td>\n",
       "      <td>12</td>\n",
       "      <td>2008</td>\n",
       "      <td>WD</td>\n",
       "      <td>Normal</td>\n",
       "      <td>250000</td>\n",
       "    </tr>\n",
       "  </tbody>\n",
       "</table>\n",
       "<p>5 rows × 81 columns</p>\n",
       "</div>"
      ],
      "text/plain": [
       "   Id  MSSubClass MSZoning  LotFrontage  LotArea Street Alley LotShape  \\\n",
       "0   1          60       RL         65.0     8450   Pave   NaN      Reg   \n",
       "1   2          20       RL         80.0     9600   Pave   NaN      Reg   \n",
       "2   3          60       RL         68.0    11250   Pave   NaN      IR1   \n",
       "3   4          70       RL         60.0     9550   Pave   NaN      IR1   \n",
       "4   5          60       RL         84.0    14260   Pave   NaN      IR1   \n",
       "\n",
       "  LandContour Utilities  ... PoolArea PoolQC Fence MiscFeature MiscVal MoSold  \\\n",
       "0         Lvl    AllPub  ...        0    NaN   NaN         NaN       0      2   \n",
       "1         Lvl    AllPub  ...        0    NaN   NaN         NaN       0      5   \n",
       "2         Lvl    AllPub  ...        0    NaN   NaN         NaN       0      9   \n",
       "3         Lvl    AllPub  ...        0    NaN   NaN         NaN       0      2   \n",
       "4         Lvl    AllPub  ...        0    NaN   NaN         NaN       0     12   \n",
       "\n",
       "  YrSold  SaleType  SaleCondition  SalePrice  \n",
       "0   2008        WD         Normal     208500  \n",
       "1   2007        WD         Normal     181500  \n",
       "2   2008        WD         Normal     223500  \n",
       "3   2006        WD        Abnorml     140000  \n",
       "4   2008        WD         Normal     250000  \n",
       "\n",
       "[5 rows x 81 columns]"
      ]
     },
     "execution_count": 2,
     "metadata": {},
     "output_type": "execute_result"
    }
   ],
   "source": [
    "#dataset\n",
    "df = pd.read_csv('train.csv')\n",
    "df.head()"
   ]
  },
  {
   "cell_type": "code",
   "execution_count": 3,
   "id": "4ae5655b-1c46-48d3-97f2-09bd32bc4437",
   "metadata": {},
   "outputs": [
    {
     "data": {
      "text/plain": [
       "(1460, 81)"
      ]
     },
     "execution_count": 3,
     "metadata": {},
     "output_type": "execute_result"
    }
   ],
   "source": [
    "df.shape"
   ]
  },
  {
   "cell_type": "markdown",
   "id": "f07c0084-2317-42d3-b0d2-beb80ea6014a",
   "metadata": {},
   "source": [
    "## Pre-processing\n",
    "---"
   ]
  },
  {
   "cell_type": "markdown",
   "id": "eecf8351-7dda-4e06-b396-9b8f41ae86c8",
   "metadata": {},
   "source": [
    "There are quite a few things I want to clean up from the dataset, but let's start with the basics"
   ]
  },
  {
   "cell_type": "markdown",
   "id": "86ac7205-4fc8-47c3-a476-bf21365ea769",
   "metadata": {},
   "source": [
    "### Handling nulls"
   ]
  },
  {
   "cell_type": "code",
   "execution_count": 4,
   "id": "e1d3a2a9-84c0-4faa-b866-b119d2969cd3",
   "metadata": {},
   "outputs": [
    {
     "name": "stdout",
     "output_type": "stream",
     "text": [
      "Electrical         1\n",
      "MasVnrArea         8\n",
      "BsmtQual          37\n",
      "BsmtCond          37\n",
      "BsmtFinType1      37\n",
      "BsmtExposure      38\n",
      "BsmtFinType2      38\n",
      "GarageCond        81\n",
      "GarageQual        81\n",
      "GarageFinish      81\n",
      "GarageYrBlt       81\n",
      "GarageType        81\n",
      "LotFrontage      259\n",
      "FireplaceQu      690\n",
      "MasVnrType       872\n",
      "Fence           1179\n",
      "Alley           1369\n",
      "MiscFeature     1406\n",
      "PoolQC          1453\n",
      "dtype: int64\n"
     ]
    }
   ],
   "source": [
    "print(df.isnull().sum()[df.isnull().sum() > 0].sort_values())"
   ]
  },
  {
   "cell_type": "markdown",
   "id": "9a11a90f-0768-4b8a-9ea0-0e5713de8be0",
   "metadata": {},
   "source": [
    "There are quite a few null values. Let's just drop the columns with over half the data, that Electrical row,  and then fill in the numerical ones with the mean values."
   ]
  },
  {
   "cell_type": "code",
   "execution_count": 5,
   "id": "0848ea41-c09f-4a89-8024-0e69f4b6b257",
   "metadata": {},
   "outputs": [],
   "source": [
    "df = df.drop(['PoolQC', 'MasVnrType', 'MiscFeature', 'Alley', 'Fence', 'FireplaceQu'], axis=1)\n",
    "df = df.dropna(subset=[\"Electrical\"])\n",
    "df.fillna(df.mean(numeric_only=True), inplace=True)"
   ]
  },
  {
   "cell_type": "code",
   "execution_count": 6,
   "id": "ed62033d-a703-400f-9970-ac26fdae55d5",
   "metadata": {},
   "outputs": [
    {
     "name": "stdout",
     "output_type": "stream",
     "text": [
      "BsmtQual        37\n",
      "BsmtCond        37\n",
      "BsmtFinType1    37\n",
      "BsmtExposure    38\n",
      "BsmtFinType2    38\n",
      "GarageType      81\n",
      "GarageFinish    81\n",
      "GarageQual      81\n",
      "GarageCond      81\n",
      "dtype: int64\n"
     ]
    }
   ],
   "source": [
    "print(df.isnull().sum()[df.isnull().sum() > 0].sort_values())"
   ]
  },
  {
   "cell_type": "markdown",
   "id": "ab3f30ad-3a1c-4fcf-a5ac-0b6e4cfa7abf",
   "metadata": {},
   "source": [
    "Okay we are left with the Catergorical ones now. There are plent of ways to go about this but I'm lazy so i'll just fill them with N/A"
   ]
  },
  {
   "cell_type": "code",
   "execution_count": 7,
   "id": "d122db9d-4451-4e5d-8b5e-ecc089c5a5c8",
   "metadata": {},
   "outputs": [
    {
     "name": "stdout",
     "output_type": "stream",
     "text": [
      "Series([], dtype: int64)\n"
     ]
    }
   ],
   "source": [
    "df.fillna('N/A', inplace=True)\n",
    "print(df.isnull().sum()[df.isnull().sum() > 0].sort_values())"
   ]
  },
  {
   "cell_type": "markdown",
   "id": "a2981783-7361-40f7-843f-4666902faba2",
   "metadata": {},
   "source": [
    "Cool, now we can work with all the data now. It's not super perfect as well see soon, but we'll come back to this."
   ]
  },
  {
   "cell_type": "markdown",
   "id": "999b4672-0567-437f-b1c1-1b3127ab7049",
   "metadata": {},
   "source": [
    "### Duplicates"
   ]
  },
  {
   "cell_type": "code",
   "execution_count": 8,
   "id": "f3984609-be4b-4800-8707-4221aa54fcb3",
   "metadata": {},
   "outputs": [
    {
     "data": {
      "text/plain": [
       "False    1459\n",
       "Name: count, dtype: int64"
      ]
     },
     "execution_count": 8,
     "metadata": {},
     "output_type": "execute_result"
    }
   ],
   "source": [
    "df.duplicated().value_counts()"
   ]
  },
  {
   "cell_type": "markdown",
   "id": "7197f4c3-0fae-4b3b-af7a-3122b0225784",
   "metadata": {},
   "source": [
    "No duplicates so let's move on."
   ]
  },
  {
   "cell_type": "markdown",
   "id": "13db2e3f-d6de-4d57-a68e-713bee15c372",
   "metadata": {},
   "source": [
    "### Dropping ID"
   ]
  },
  {
   "cell_type": "markdown",
   "id": "ffd6f264-8a5c-4ae3-b89e-4914812ef9e3",
   "metadata": {},
   "source": [
    "We don't need the ID as it shouldn't affect the price at all and it would just be confusing to keep when graphing. Let's just drop it"
   ]
  },
  {
   "cell_type": "code",
   "execution_count": 9,
   "id": "b5620b0e-c35d-4a8c-b865-c6b4c15362b0",
   "metadata": {},
   "outputs": [],
   "source": [
    "df = df.drop(\"Id\", axis=1)"
   ]
  },
  {
   "cell_type": "markdown",
   "id": "f9f47d87-20f7-4f70-9bc4-087e06b65c1d",
   "metadata": {},
   "source": [
    "### Dummies"
   ]
  },
  {
   "cell_type": "code",
   "execution_count": 10,
   "id": "4f768b86-7cdc-469b-a2ac-f21235eb9855",
   "metadata": {},
   "outputs": [
    {
     "data": {
      "text/plain": [
       "object     37\n",
       "int64      34\n",
       "float64     3\n",
       "Name: count, dtype: int64"
      ]
     },
     "execution_count": 10,
     "metadata": {},
     "output_type": "execute_result"
    }
   ],
   "source": [
    "df.dtypes.value_counts()"
   ]
  },
  {
   "cell_type": "markdown",
   "id": "82577d61-961d-45e5-a3fb-bbd6fc0621d8",
   "metadata": {},
   "source": [
    "So we have around 37 objects which I assume are catergoirical. For now, let's just push them to dummies."
   ]
  },
  {
   "cell_type": "code",
   "execution_count": 11,
   "id": "9c97c22f-e22b-46a5-aef1-6a54b0949a27",
   "metadata": {},
   "outputs": [],
   "source": [
    "df = pd.get_dummies(df, drop_first=True)"
   ]
  },
  {
   "cell_type": "code",
   "execution_count": 12,
   "id": "30a911fa-ddee-4945-b1e8-897681dadd08",
   "metadata": {},
   "outputs": [
    {
     "data": {
      "text/plain": [
       "bool       202\n",
       "int64       34\n",
       "float64      3\n",
       "Name: count, dtype: int64"
      ]
     },
     "execution_count": 12,
     "metadata": {},
     "output_type": "execute_result"
    }
   ],
   "source": [
    "df.dtypes.value_counts()"
   ]
  },
  {
   "cell_type": "markdown",
   "id": "992724f7-55cf-4f49-a7e7-5f7a2153923f",
   "metadata": {},
   "source": [
    "## Data Analysis + More Cleaning\n",
    "---"
   ]
  },
  {
   "cell_type": "markdown",
   "id": "7b0d5938-5433-4474-a3a8-549a96210d22",
   "metadata": {},
   "source": [
    "Let's visual some data to see if we can identify important pieces of data before we actually make a prediction. I'll be using a correlation heatmap to show the correlation between the different features. This might be bloated with a bunch of data, but we'll mainly be looking at the SalePrice feature."
   ]
  },
  {
   "cell_type": "code",
   "execution_count": 22,
   "id": "fe7f16eb-3e70-4884-b759-6e6d40002327",
   "metadata": {},
   "outputs": [
    {
     "data": {
      "image/png": "[encoded data removed]",
      "text/plain": [
       "<Figure size 640x480 with 2 Axes>"
      ]
     },
     "metadata": {},
     "output_type": "display_data"
    }
   ],
   "source": [
    "df_numerical = df.select_dtypes(include=['number'])\n",
    "corr = df_numerical.corr()\n",
    "sns.heatmap(corr, cmap='Blues')\n",
    "plt.title('Feature Correlation Heatmap')\n",
    "plt.show()"
   ]
  },
  {
   "cell_type": "markdown",
   "id": "1bbddb67-d2b0-4c41-a1b4-dd5b3bfa17c0",
   "metadata": {},
   "source": [
    "## Experiment 1: Linear Regression\n",
    "---"
   ]
  },
  {
   "cell_type": "markdown",
   "id": "fb4d176c-4fcc-4157-ae85-8567febe195e",
   "metadata": {},
   "source": [
    "We're going to start with linear regression. Let's briefly review what linear regression does.\n",
    "\n",
    "Linear regression is a statistical method used to model the relationship between a dependent variable (SalesPrice), and one or more independent variables (The 80 other features). It assumes that there is a linear relationship between the dependent and independent variables. The goal is to find the best-fit line that minimizes the difference between the actual observed values and the predicted values.\n",
    "\n",
    "Some common evaluation methods we will use is $MSE$, $RMSE$, and $R^2$"
   ]
  },
  {
   "cell_type": "code",
   "execution_count": 14,
   "id": "db39d215-c933-4ad5-a374-40275dfd7031",
   "metadata": {},
   "outputs": [],
   "source": [
    "#Splitting the data\n",
    "X = df.drop(\"SalePrice\", axis=1)\n",
    "y = df[\"SalePrice\"]\n",
    "X_train, X_test, y_train, y_test = train_test_split(X, y, test_size=0.2, random_state=42)"
   ]
  },
  {
   "cell_type": "code",
   "execution_count": 15,
   "id": "a3aaf70a-dc83-43c3-92c7-c62af69e8658",
   "metadata": {},
   "outputs": [],
   "source": [
    "# Initialize a linear regression model object\n",
    "lr = LinearRegression() \n",
    "\n",
    "# Fit the linear regression model object to our data\n",
    "lr.fit(X_train, y_train)\n",
    "\n",
    "y_pred = lr.predict(X_test)"
   ]
  },
  {
   "cell_type": "markdown",
   "id": "dcbcc149-3ba6-46ea-be6b-1bc2e63880c6",
   "metadata": {},
   "source": [
    "### Evaluation"
   ]
  },
  {
   "cell_type": "code",
   "execution_count": 16,
   "id": "506fb4ee-8630-4af4-bb0d-b4c814b39a99",
   "metadata": {},
   "outputs": [
    {
     "name": "stdout",
     "output_type": "stream",
     "text": [
      "RMSE: 52125.61\n"
     ]
    }
   ],
   "source": [
    "rmse = np.sqrt(mean_squared_error(y_test, y_pred))\n",
    "print(f'RMSE: {rmse:.2f}')"
   ]
  },
  {
   "cell_type": "code",
   "execution_count": 17,
   "id": "b35d998d-b833-46bd-9580-4e15390cd857",
   "metadata": {},
   "outputs": [
    {
     "name": "stdout",
     "output_type": "stream",
     "text": [
      "R-squared: 0.4969853199934169\n"
     ]
    }
   ],
   "source": [
    "r2 = r2_score(y_test, y_pred)\n",
    "print(f'R-squared: {r2}')"
   ]
  },
  {
   "cell_type": "code",
   "execution_count": 18,
   "id": "a14262ab-da44-4367-921c-e995cffb1867",
   "metadata": {},
   "outputs": [
    {
     "data": {
      "image/png": "[encoded data removed]",
      "text/plain": [
       "<Figure size 800x600 with 1 Axes>"
      ]
     },
     "metadata": {},
     "output_type": "display_data"
    }
   ],
   "source": [
    "# Plotting the true values vs. predicted values\n",
    "plt.figure(figsize=(8, 6))\n",
    "plt.scatter(y_test, y_pred, color='blue', label='Predicted vs Actual')\n",
    "plt.plot([min(y_test), max(y_test)], [min(y_test), max(y_test)], color='red', linestyle='--', label='Ideal')\n",
    "plt.xlabel('True Values (y_test)')\n",
    "plt.ylabel('Predicted Values (y_pred)')\n",
    "plt.title('True vs Predicted Values')\n",
    "plt.legend()\n",
    "plt.show()"
   ]
  },
  {
   "cell_type": "markdown",
   "id": "ed0c1708-e1b7-43c9-95a0-ed3867207131",
   "metadata": {},
   "source": [
    "Not super bad, but could be <strong>way</strong> better. A very weird prediction in the middle as well. Sadly, we'll have to go back to cleaning and perhaps change what was filled in for nulls or maybe another model works better."
   ]
  },
  {
   "cell_type": "markdown",
   "id": "2a72b6f5-e118-4057-811b-07d7b596f988",
   "metadata": {},
   "source": [
    "## Experiment 2: Multiple Linear Regression (ignore this part)\n",
    "---"
   ]
  },
  {
   "cell_type": "code",
   "execution_count": 19,
   "id": "9864a544-5850-4253-8117-d522149c9beb",
   "metadata": {},
   "outputs": [],
   "source": [
    "#Splitting the data\n",
    "X = df.drop(\"SalePrice\", axis=1)\n",
    "y = df[\"SalePrice\"]\n",
    "X_train, X_test, y_train, y_test = train_test_split(X, y, test_size=0.2, random_state=42)"
   ]
  },
  {
   "cell_type": "code",
   "execution_count": 20,
   "id": "7ff6e255-922f-4cd8-95cf-5b84246acdbd",
   "metadata": {},
   "outputs": [],
   "source": [
    "#mlr_model = sm.OLS(y_train, X_train).fit()\n",
    "#print(mlr_model.summary())"
   ]
  },
  {
   "cell_type": "markdown",
   "id": "6aaa06b1-5ba6-415f-937a-04196472d1d7",
   "metadata": {},
   "source": [
    "### Evaluation"
   ]
  },
  {
   "cell_type": "code",
   "execution_count": 21,
   "id": "0bab14ea-dbce-431d-be1e-253a720c0f2a",
   "metadata": {},
   "outputs": [],
   "source": [
    "# Predict values\n",
    "#y_pred = mlr_model.predict(X_train)\n",
    "\n",
    "# Calculate RMSE\n",
    "#rmse = np.sqrt(np.mean((y_train - y_pred) ** 2))\n",
    "#print(\"RMSE:\", rmse)"
   ]
  },
  {
   "cell_type": "markdown",
   "id": "f4e117b7-358a-48b8-b9bc-75e6b33fcefa",
   "metadata": {},
   "source": [
    "## Experiment 3: Changing Data\n",
    "---"
   ]
  },
  {
   "cell_type": "markdown",
   "id": "8d6ecbb4-d87b-497e-bc54-2d5cedb1bafe",
   "metadata": {},
   "source": [
    "## Impact\n",
    "---"
   ]
  },
  {
   "cell_type": "markdown",
   "id": "813f6c4d-e406-4d33-8280-6083d590e5f3",
   "metadata": {},
   "source": [
    "## References\n",
    "---"
   ]
  },
  {
   "cell_type": "markdown",
   "id": "d74452b6-cba7-41c3-94c4-1075e32408bb",
   "metadata": {},
   "source": [
    "- [Kaggle House Price Competition](https://www.kaggle.com/c/house-prices-advanced-regression-techniques/overview)"
   ]
  }
 ],
 "metadata": {
  "kernelspec": {
   "display_name": "Python 3 (ipykernel)",
   "language": "python",
   "name": "python3"
  },
  "language_info": {
   "codemirror_mode": {
    "name": "ipython",
    "version": 3
   },
   "file_extension": ".py",
   "mimetype": "text/x-python",
   "name": "python",
   "nbconvert_exporter": "python",
   "pygments_lexer": "ipython3",
   "version": "3.12.7"
  }
 },
 "nbformat": 4,
 "nbformat_minor": 5
}
