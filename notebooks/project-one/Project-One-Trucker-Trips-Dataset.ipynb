{
 "cells": [
  {
   "cell_type": "markdown",
   "id": "8aa3fbfa-6122-492a-8934-5faf81d734ae",
   "metadata": {},
   "source": [
    "# Project One: Delivery Truck Trips Dataset\n"
   ]
  },
  {
   "cell_type": "markdown",
   "id": "5fa66c81-a0f2-449a-855f-71847697e08b",
   "metadata": {},
   "source": [
    "<div>\n",
    "<img src=\"../images/truck.jpg\" alt=\"truck image\" width=\"30%\"/>\n",
    "</div>"
   ]
  },
  {
   "cell_type": "markdown",
   "id": "0261c900-9811-484a-8b80-98e93cfd4136",
   "metadata": {},
   "source": [
    "## Introduction\n",
    "---"
   ]
  },
  {
   "cell_type": "markdown",
   "id": "f487d2ec-d089-4c14-8803-64f2eb3ef2e2",
   "metadata": {},
   "source": [
    "If you've ever been on the road, you've likely seen a truck. These massive tractor-trailers play a vital role in the U.S. economy, transporting an astounding 11.46 billion tons of freight each year. In fact, the trucking industry is valued at a staggering $2.2 trillion. To maintain efficiency in delivering goods from manufacturers to stores, companies rely on advanced routing algorithms to optimize their operations."
   ]
  },
  {
   "cell_type": "markdown",
   "id": "2c6ad053-660f-4df9-9010-dabbad1ff255",
   "metadata": {},
   "source": [
    "To find how current routes are for truck drivers, we'll be using the [delivery truck trips dataset](https://www.kaggle.com/datasets/ramakrishnanthiyagu/delivery-truck-trips-data/data). It will assess how efficient their eta prediction is and the potential delays surrounding it. Some necessary questions about the dataset: \n",
    "- What’s the comparison between planned eta and actual eta? \n",
    "- Do long hours cause fatigue to the driver, and/or is more time driving likely for a delay?\n",
    "- Do certain customers have higher delay rates?\n",
    "- Are any GPS Providers causing delays?"
   ]
  },
  {
   "cell_type": "markdown",
   "id": "a260722a-1854-4375-a731-1be758cb1463",
   "metadata": {},
   "source": [
    "In the dataset itself, there are a total of +6800 rows or trips taken from the data set spanning 32 different features. The columns are displayed below and follow with a description:\n",
    "<table>\n",
    "    <tr>\n",
    "        <td><strong>Feature</strong></td>\n",
    "        <td><strong>Description</strong></td>\n",
    "    </tr>\n",
    "    <tr>\n",
    "        <td>GpsProvider</td>\n",
    "        <td>Vendor who provides GPS</td>\n",
    "    </tr>\n",
    "    <tr>\n",
    "        <td>BookingID</td>\n",
    "        <td>Unique Identification for a trip</td>\n",
    "    </tr>\n",
    "    <tr>\n",
    "        <td>Market/Regular</td>\n",
    "        <td>Type of trip. Regular: Vendors with contract. Market: Vendor with no contract</td>\n",
    "    </tr>\n",
    "    <tr>\n",
    "        <td>BookingID_Date</td>\n",
    "        <td>Date when booking was created</td>\n",
    "    </tr>\n",
    "    <tr>\n",
    "        <td>vehicle_no</td>\n",
    "        <td>Truck Number</td>\n",
    "    </tr>\n",
    "    <tr>\n",
    "        <td>Origin_Location</td>\n",
    "        <td>Trip start place</td>\n",
    "    </tr>\n",
    "    <tr>\n",
    "        <td>Destination_Location</td>\n",
    "        <td>Trip end place</td>\n",
    "    </tr>\n",
    "    <tr>\n",
    "        <td>Org_lat_lon</td>\n",
    "        <td>Latitude/Longitude of start place</td>\n",
    "    </tr>\n",
    "    <tr>\n",
    "        <td>Des_lat_lon</td>\n",
    "        <td>Latitude/Longitude of end place</td>\n",
    "    </tr>\n",
    "    <tr>\n",
    "        <td>Data_Ping_time</td>\n",
    "        <td>Time when we receive GPS ping</td>\n",
    "    </tr>\n",
    "    <tr>\n",
    "        <td>Planned_ETA</td>\n",
    "        <td>Planned Estimated Time of Arrival</td>\n",
    "    </tr>\n",
    "    <tr>\n",
    "        <td>Current_Location</td>\n",
    "        <td>Live location</td>\n",
    "    </tr>\n",
    "    <tr>\n",
    "        <td>DestinationLocation</td>\n",
    "        <td>Repeat of destination location</td>\n",
    "    </tr>\n",
    "    <tr>\n",
    "        <td>actual_eta</td>\n",
    "        <td>Time when the truck arrived</td>\n",
    "    </tr>\n",
    "    <tr>\n",
    "        <td>Curr_lat</td>\n",
    "        <td>current latitude, changes each time when we receive GPS ping</td>\n",
    "    </tr>\n",
    "    <tr>\n",
    "        <td>Curr_lon</td>\n",
    "        <td>current longitude, changes each time when we receive GPS ping</td>\n",
    "    </tr>\n",
    "    <tr>\n",
    "        <td>ontime</td>\n",
    "        <td>If the truck arrived on time, calculated based on Planned and Actual ETA</td>\n",
    "    </tr>\n",
    "    <tr>\n",
    "        <td>delay</td>\n",
    "        <td>If the truck arrived with a delay, calculated based on Planned and Actual ETA</td>\n",
    "    </tr>\n",
    "    <tr>\n",
    "        <td>OriginLocation_Code</td>\n",
    "        <td>Origin code</td>\n",
    "    </tr>\n",
    "    <tr>\n",
    "        <td>DestinationLocation_Code</td>\n",
    "        <td>Destination code</td>\n",
    "    </tr>\n",
    "    <tr>\n",
    "        <td>trip_start_date</td>\n",
    "        <td>Date/Time when trip started</td>\n",
    "    </tr>\n",
    "    <tr>\n",
    "        <td>trip_end_date</td>\n",
    "        <td>Date/Time when trip ended Based on documentation (cant be considered for calculating delay)</td>\n",
    "    </tr>\n",
    "    <tr>\n",
    "        <td>TRANSPORTATION_DISTANCE_IN_KM</td>\n",
    "        <td>Total KM of travel</td>\n",
    "    </tr>\n",
    "    <tr>\n",
    "        <td>vehicleType</td>\n",
    "        <td>Type of Truck</td>\n",
    "    </tr>\n",
    "    <tr>\n",
    "        <td>Minimum_kms_to_be_covered_in_a_day</td>\n",
    "        <td>Minimum KM the driver needs to cover in a day</td>\n",
    "    </tr>\n",
    "    <tr>\n",
    "        <td>Driver_Name</td>\n",
    "        <td>Driver details</td>\n",
    "    </tr>\n",
    "    <tr>\n",
    "        <td>Driver_MobileNo</td>\n",
    "        <td>Driver details</td>\n",
    "    </tr>\n",
    "    <tr>\n",
    "        <td>customerID</td>\n",
    "        <td>Customer details</td>\n",
    "    </tr>\n",
    "    <tr>\n",
    "        <td>customerNameCode</td>\n",
    "        <td>Customer details</td>\n",
    "    </tr>\n",
    "    <tr>\n",
    "        <td>supplierID</td>\n",
    "        <td>Supplier who provides the vehicle</td>\n",
    "    </tr>\n",
    "    <tr>\n",
    "        <td>supplierNameCode</td>\n",
    "        <td>Supplier who provides the vehicle</td>\n",
    "    </tr>\n",
    "</table>\n"
   ]
  },
  {
   "cell_type": "code",
   "execution_count": null,
   "id": "b07fbefe-5315-4e00-aee9-046e8778dd4a",
   "metadata": {},
   "outputs": [],
   "source": [
    "#Imports\n",
    "import numpy as np\n",
    "import pandas as pd\n",
    "import matplotlib.pyplot as plt\n",
    "import seaborn as sns"
   ]
  },
  {
   "cell_type": "code",
   "execution_count": null,
   "id": "1f93d2bb-aff9-4f09-b23e-1648ddbcae97",
   "metadata": {},
   "outputs": [],
   "source": [
    "#dataset\n",
    "df = pd.read_excel('truck-trips.xlsx')\n",
    "df.head()"
   ]
  },
  {
   "cell_type": "markdown",
   "id": "10a06dcd-977a-4fb4-ad8d-00caf096e9df",
   "metadata": {},
   "source": [
    "## Pre-processing\n",
    "---"
   ]
  },
  {
   "cell_type": "markdown",
   "id": "a92e747b-90e7-4167-9ac2-c77b2a515e92",
   "metadata": {},
   "source": [
    "### Dropping nulls"
   ]
  },
  {
   "cell_type": "markdown",
   "id": "bc40a904-1a7b-418a-b406-1a17e129a3d7",
   "metadata": {},
   "source": [
    "There are quite a few null values in the dataset. Some of them are okay, for example, delay and on time are paired together. If one of them is null, the other is true. Actual_eta and trip_end_date look to have a small amount of nulls which we'd need to drop. These nulls are likely due to the trips still ongoing while the dataset was taken, so it will just be dropped."
   ]
  },
  {
   "cell_type": "code",
   "execution_count": null,
   "id": "63180601-91b5-4bb9-bad3-362c5698ed5e",
   "metadata": {},
   "outputs": [],
   "source": [
    "df.isnull().sum()"
   ]
  },
  {
   "cell_type": "code",
   "execution_count": null,
   "id": "546c8674-1b1b-45d7-93f0-31c82ec79c69",
   "metadata": {},
   "outputs": [],
   "source": [
    "df = df.dropna(subset=['actual_eta'])\n",
    "df = df.dropna(subset=['trip_end_date'])"
   ]
  },
  {
   "cell_type": "code",
   "execution_count": null,
   "id": "c50ee058-6698-4eaf-a11c-4912d5fce11b",
   "metadata": {},
   "outputs": [],
   "source": [
    "df.isnull().sum()"
   ]
  },
  {
   "cell_type": "code",
   "execution_count": null,
   "id": "811389a6-d15e-4323-b552-c213fd2f4b3b",
   "metadata": {},
   "outputs": [],
   "source": [
    "df.shape"
   ]
  },
  {
   "cell_type": "markdown",
   "id": "95c797eb-dd2c-4dd7-b4e0-5e5517cbe9ee",
   "metadata": {},
   "source": [
    "### Delay & ontime feature"
   ]
  },
  {
   "cell_type": "markdown",
   "id": "3b8feaff-301c-45cb-924e-043b350eb8a1",
   "metadata": {},
   "source": [
    "Something odd about this dataset is that delay and on time are two separate features and are not combined into one. Since it'll be easier to graph, I'm going to combine these two columns to make a new column called `new_delay`."
   ]
  },
  {
   "cell_type": "code",
   "execution_count": null,
   "id": "04efcd6b-79db-44af-ab54-e87487fb9eba",
   "metadata": {},
   "outputs": [],
   "source": [
    "df['ontime']"
   ]
  },
  {
   "cell_type": "code",
   "execution_count": null,
   "id": "7a8d16b4-275c-4bdd-aaf0-ffc5b8c12423",
   "metadata": {},
   "outputs": [],
   "source": [
    "df['delay']"
   ]
  },
  {
   "cell_type": "code",
   "execution_count": null,
   "id": "77b8042b-fc5b-4248-929c-559746703378",
   "metadata": {},
   "outputs": [],
   "source": [
    "df[\"new_delay\"] = np.where(df[\"ontime\"] == \"G\", \"On Time\", np.where(df[\"delay\"] == \"R\", \"Delayed\", \"Unknown\"))\n",
    "df[\"new_delay\"]"
   ]
  },
  {
   "cell_type": "markdown",
   "id": "9a890619-a186-41fe-88e5-8412e527187e",
   "metadata": {},
   "source": [
    "### Duplicates"
   ]
  },
  {
   "cell_type": "markdown",
   "id": "9025c1a2-1ead-4e7c-abb8-f303f3aac866",
   "metadata": {},
   "source": [
    "Just to make sure there aren't any duplicates."
   ]
  },
  {
   "cell_type": "code",
   "execution_count": null,
   "id": "f16ae07a-1e4c-4ce2-b217-f10240645b63",
   "metadata": {},
   "outputs": [],
   "source": [
    "print(df.duplicated().value_counts())"
   ]
  },
  {
   "cell_type": "markdown",
   "id": "27afda94-d5eb-45e9-abe2-20b3bab435f4",
   "metadata": {},
   "source": [
    "Nice, doesn't seem to be an issue for us."
   ]
  },
  {
   "cell_type": "markdown",
   "id": "67d53527-674c-4aac-aec4-51deded55fbc",
   "metadata": {},
   "source": [
    "### Datatime types on certain features"
   ]
  },
  {
   "cell_type": "code",
   "execution_count": null,
   "id": "a88b0739-771c-4fde-b56c-18a8316fc0ee",
   "metadata": {},
   "outputs": [],
   "source": [
    "df.dtypes"
   ]
  },
  {
   "cell_type": "markdown",
   "id": "891c4c1a-da13-40ad-b1dc-76a827eba90e",
   "metadata": {},
   "source": [
    "Some types aren't datetime like planned_eta and actual_eta even though they should be. Most likely an error when converted the excel file."
   ]
  },
  {
   "cell_type": "code",
   "execution_count": null,
   "id": "50ec0b83-d5a4-408a-bb31-fb531ea649ca",
   "metadata": {},
   "outputs": [],
   "source": [
    "df['Planned_ETA'] = pd.to_datetime(df['Planned_ETA'])\n",
    "df['actual_eta'] = pd.to_datetime(df['actual_eta'])"
   ]
  },
  {
   "cell_type": "code",
   "execution_count": null,
   "id": "3c831ca7-d3f5-4ae0-a212-e6605890d561",
   "metadata": {},
   "outputs": [],
   "source": [
    "df.dtypes"
   ]
  },
  {
   "cell_type": "markdown",
   "id": "38b26e7c-0441-405c-ba6e-69a97604a74c",
   "metadata": {},
   "source": [
    "### Dropping unneeded columns"
   ]
  },
  {
   "cell_type": "markdown",
   "id": "d5041ada-0104-4a67-b614-f15f2ab22066",
   "metadata": {},
   "source": [
    "Just so we touch all bases, some columns may be a privacy concern we can just remove since we won't be needing them. This will include customer information, driver's personal information, supplier information, vehicle number, vehicle type, and the actual longitude and latitude."
   ]
  },
  {
   "cell_type": "code",
   "execution_count": null,
   "id": "31bdd022-7567-4f14-97b7-f867639da52d",
   "metadata": {},
   "outputs": [],
   "source": [
    "df = df.drop(['Org_lat_lon', 'Des_lat_lon', 'vehicleType', 'Driver_Name', 'Driver_MobileNo', 'Minimum_kms_to_be_covered_in_a_day', 'TRANSPORTATION_DISTANCE_IN_KM'],  axis=1)"
   ]
  },
  {
   "cell_type": "code",
   "execution_count": null,
   "id": "3e93f56a-27a8-4178-83d0-a356d4c1dc96",
   "metadata": {},
   "outputs": [],
   "source": [
    "df.shape"
   ]
  },
  {
   "cell_type": "markdown",
   "id": "0b7d1d77-6468-40fc-a570-84ea6f9d359a",
   "metadata": {},
   "source": [
    "## Visualization\n",
    "---\n",
    "<a id=\"visual\"></a>"
   ]
  },
  {
   "cell_type": "markdown",
   "id": "9c57ca37-4b33-4bf0-93df-3c3b3665ecdc",
   "metadata": {},
   "source": [
    "### Percent of total delay to ontime"
   ]
  },
  {
   "cell_type": "markdown",
   "id": "5020b4d3-44d2-4d9a-bf14-5f2d1a83ab92",
   "metadata": {},
   "source": [
    "Lets first show the current on-time to delay amount. Luckily, it's already calculated inside the dataset."
   ]
  },
  {
   "cell_type": "code",
   "execution_count": null,
   "id": "ba75fb8d-dad2-4edc-9653-7d061ad94e5a",
   "metadata": {},
   "outputs": [],
   "source": [
    "counts = np.array([df['delay'].count(), df['ontime'].count()])\n",
    "plt.figure(figsize=(6, 6))\n",
    "plt.pie(counts, labels=[\"delay\", \"ontime\"], autopct='%1.1f%%', colors=[ 'red', 'green'])\n",
    "plt.title('Proportion of Early/On-Time/Late Deliveries')\n",
    "plt.show()"
   ]
  },
  {
   "cell_type": "code",
   "execution_count": null,
   "id": "0b53cb1f-d3fd-477b-b2a3-736fbb324146",
   "metadata": {},
   "outputs": [],
   "source": [
    "sns.countplot(x = 'new_delay', data=df, hue = 'new_delay')"
   ]
  },
  {
   "cell_type": "markdown",
   "id": "0c97d24b-87f9-45fa-8fcb-b5de90f68a79",
   "metadata": {},
   "source": [
    "### Delay compared to hours driven"
   ]
  },
  {
   "cell_type": "markdown",
   "id": "72514f3b-45a4-46c4-874a-6b37e40199c7",
   "metadata": {},
   "source": [
    "Disclaimer: The \"On Time\" in the negatives are actually early deliveries"
   ]
  },
  {
   "cell_type": "code",
   "execution_count": null,
   "id": "0b92c852-5c65-400b-8fba-d7f498659167",
   "metadata": {},
   "outputs": [],
   "source": [
    "df[\"driving_hours\"] = (pd.to_datetime(df[\"actual_eta\"]) - pd.to_datetime(df[\"trip_start_date\"])).dt.total_seconds() / 3600\n",
    "df[\"driving_hours\"] = df[\"driving_hours\"]\n",
    "\n",
    "plt.figure(figsize=(8, 5))\n",
    "sns.boxplot(x='new_delay', y='driving_hours', data=df)\n",
    "plt.xlabel(\"Trip Delayed (True/False)\")\n",
    "plt.ylabel(\"Driving Hours\")\n",
    "plt.title(\"Driving Hours vs. Trip Delay\")\n",
    "plt.show()"
   ]
  },
  {
   "cell_type": "markdown",
   "id": "d6c94597-dc42-4909-ac45-7e73c8b02895",
   "metadata": {},
   "source": [
    "### Delay for customers"
   ]
  },
  {
   "cell_type": "markdown",
   "id": "600f84e7-945f-4ac6-af2f-3d4f56c43cbe",
   "metadata": {},
   "source": [
    "As a disclaimer there are over 40+ different customers, some of which only have less than 10 rows. So to make it easier, we'll look at the top 5 with the most rows."
   ]
  },
  {
   "cell_type": "code",
   "execution_count": null,
   "id": "9f78c329-dc4c-4aa2-881a-b8afb3582b13",
   "metadata": {},
   "outputs": [],
   "source": [
    "df['customerNameCode'].value_counts().nlargest(20)"
   ]
  },
  {
   "cell_type": "code",
   "execution_count": null,
   "id": "3df75f85-fd47-4776-99a5-8a9c01e8a370",
   "metadata": {
    "scrolled": true
   },
   "outputs": [],
   "source": [
    "top_5_customers = df['customerNameCode'].value_counts().nlargest(5).index\n",
    "\n",
    "# Filter the DataFrame to only include those top 5 customers\n",
    "filtered_df = df[df['customerNameCode'].isin(top_5_customers)]\n",
    "plt.figure(figsize=(14, 5))\n",
    "sns.countplot(x=filtered_df['customerNameCode'], data=filtered_df, hue = 'new_delay')"
   ]
  },
  {
   "cell_type": "markdown",
   "id": "6d34e3af-dca8-443b-b03a-d41c9374fc92",
   "metadata": {},
   "source": [
    "Daimler India does show some promising in something different, but it doesn't seem too impressive."
   ]
  },
  {
   "cell_type": "markdown",
   "id": "40830753-ce06-4a59-b959-251aa55b8f4c",
   "metadata": {},
   "source": [
    "## Market/Regular delays"
   ]
  },
  {
   "cell_type": "code",
   "execution_count": null,
   "id": "fd9ed81c-e4fd-4a36-a226-40a241322a0b",
   "metadata": {},
   "outputs": [],
   "source": [
    "sns.countplot(x = 'Market/Regular ', data=df, hue = 'new_delay')"
   ]
  },
  {
   "cell_type": "markdown",
   "id": "7de8af01-680c-4bbe-a22c-d3e2b84750b6",
   "metadata": {},
   "source": [
    "Nothing very intresting sadly :("
   ]
  },
  {
   "cell_type": "markdown",
   "id": "9a11893a-832d-4c7c-9140-f9e31d7a99ae",
   "metadata": {},
   "source": [
    "### GPS Accuracy"
   ]
  },
  {
   "cell_type": "markdown",
   "id": "6a90e126-1108-4876-a1ce-1b0320c3a1a0",
   "metadata": {},
   "source": [
    "Let's look at some GPS some truckers use and test if they are accurate at predicting the drivers' arrival compared to others. Similar to customers, we'll only be looking at the top five again"
   ]
  },
  {
   "cell_type": "code",
   "execution_count": null,
   "id": "9fe6dec4-cb0d-4869-936c-c289426404cd",
   "metadata": {},
   "outputs": [],
   "source": [
    "df[\"GpsProvider\"].value_counts().nlargest(15)"
   ]
  },
  {
   "cell_type": "code",
   "execution_count": null,
   "id": "ca64b32f-33ea-4323-9287-14b162b44537",
   "metadata": {},
   "outputs": [],
   "source": [
    "top_5_gps = df['GpsProvider'].value_counts().nlargest(5).index\n",
    "\n",
    "# Filter the DataFrame to only include those top 5 customers\n",
    "filtered_df = df[df['GpsProvider'].isin(top_5_gps)]\n",
    "plt.figure(figsize=(14, 5))\n",
    "sns.countplot(x=filtered_df['GpsProvider'], data=filtered_df, hue = 'new_delay')"
   ]
  },
  {
   "cell_type": "code",
   "execution_count": null,
   "id": "e45e05f5-7180-4fc1-bf85-98a33b61f2fc",
   "metadata": {},
   "outputs": [],
   "source": [
    "consent_track_data = df[df['GpsProvider'] == 'CONSENT TRACK']\n",
    "counts = np.array([consent_track_data['delay'].count(), consent_track_data['ontime'].count()])\n",
    "plt.figure(figsize=(6, 6))\n",
    "plt.pie(counts, labels=[\"delay\", \"ontime\"], autopct='%1.1f%%', colors=[ 'red', 'green'])\n",
    "plt.title('Proportion of Early/On-Time/Late Deliveries for Consent Track')\n",
    "plt.show()"
   ]
  },
  {
   "cell_type": "code",
   "execution_count": null,
   "id": "48aabb02-81e6-4c6b-b7dd-f7836b7802da",
   "metadata": {},
   "outputs": [],
   "source": [
    "vamosys_data = df[df['GpsProvider'] == 'VAMOSYS']\n",
    "print(vamosys_data.shape)\n",
    "counts = np.array([vamosys_data['delay'].count(), vamosys_data['ontime'].count()])\n",
    "plt.figure(figsize=(6, 6))\n",
    "plt.pie(counts, labels=[\"delay\", \"ontime\"], autopct='%1.1f%%', colors=[ 'red', 'green'])\n",
    "plt.title('Proportion of Early/On-Time/Late Deliveries for Vamosys')\n",
    "plt.show()"
   ]
  },
  {
   "cell_type": "markdown",
   "id": "742e0af7-53f7-47ed-bb2c-db50eb699a77",
   "metadata": {},
   "source": [
    "Very interesting! Consent Track seems to do pretty poorly when it comes to predicting a driver's eta. Compared to Vamosys, they are right about 80% of the time."
   ]
  },
  {
   "cell_type": "markdown",
   "id": "e8d6370b-6cd5-42f4-bc62-81612f8de800",
   "metadata": {},
   "source": [
    "## Storytelling\n",
    "---"
   ]
  },
  {
   "cell_type": "markdown",
   "id": "36cdc87b-c1b3-4118-b6c3-d2d6227e4483",
   "metadata": {},
   "source": [
    "Some takeaways from the data gathered:\n",
    "- Only a little over 1/3rd of the time is the ETA accurate and even less if early is considered inaccurate.\n",
    "  \n",
    "- There's a correlation between delays and how long the driver is driving. This is to be expected, as the longer a trip takes the more likely for unexpected events to occur, which increases delay. There is also the factor that a delay increases the time driving too.\n",
    "\n",
    "- Customers seem to experience the same amount of delay as everyone else, except for Dacima India.\n",
    "\n",
    "- No real correlation could be made if Market and Regular have an impact on delays. This is surprising since I thought there would be a correlation. Especially if I have a contract with a company, I would expect to get it on time to ensure a good relationship, but perhaps it's not as important.\n",
    "\n",
    "\n",
    "- The GPS Providers Consent Track and Vamosys, the two most represented companies in the data set have polar opposite representations for their accuracy. Consent Track does a very poor job at giving good times with a whopping 12.7% accuracy rate compared to Vamosys with an 87.2% accuracy. There is a chance that maybe Vamosys overcorrects which leads to many <i>early</i> status, but more information would have to be provided.\n",
    "\n",
    "I think mostly all the questions I asked were answered. I do wish I knew how to map the pinged locations to create a visual map, but I had issues with seaborn/matplotlib and visualizing it to be comprehensible. It also doesn't help that the pinged location wasn't in predictable times and there were very few rows with the same people. \n",
    "\n",
    "Other than that I'm very happy with what I've found. Finding out the current state of delays and working with the above facts has provided some insight surrounding delays and some identifiers for them."
   ]
  },
  {
   "cell_type": "markdown",
   "id": "85d8fcc1-e868-40c5-a6f7-89811e404578",
   "metadata": {},
   "source": [
    "## Impact & Implications\n",
    "---"
   ]
  },
  {
   "cell_type": "markdown",
   "id": "362e00c2-9a2c-4a0b-9973-b2b5e51b9473",
   "metadata": {},
   "source": [
    "As the data has shown, delays are very frequent for truck drivers. We don't have 100% proof as to why these delays happen, but it can be some fault that can be attributed to GPS Providers or the length of time deliveries are. More research will have to be done on these GPS Providers to verify that these findings are true. Specifically, how much padding is being given for delays and how are they training to find these times? There is also the chance that I'm not using enough data for Vamosys as it's only ~500 rows of data. Overall, because I paint Vamosys in a better light than Count Track, fewer people will use Count Track which will significantly affect the company. "
   ]
  },
  {
   "cell_type": "markdown",
   "id": "ac48892e-30e1-4f76-a596-f34a59347d3a",
   "metadata": {},
   "source": [
    "## References\n",
    "---"
   ]
  },
  {
   "cell_type": "markdown",
   "id": "83a66378-205f-4521-8c4a-f1313dbe434d",
   "metadata": {},
   "source": [
    "- [Truck Trips Dataset](https://www.kaggle.com/datasets/ramakrishnanthiyagu/delivery-truck-trips-data/data)\n",
    "- [Introduction facts](https://www.geotab.com/blog/trucking-industry-statistics)"
   ]
  },
  {
   "cell_type": "code",
   "execution_count": null,
   "id": "9b66b39e-74bd-490d-8c49-b96e8fc96673",
   "metadata": {},
   "outputs": [],
   "source": []
  }
 ],
 "metadata": {
  "kernelspec": {
   "display_name": "Python 3 (ipykernel)",
   "language": "python",
   "name": "python3"
  },
  "language_info": {
   "codemirror_mode": {
    "name": "ipython",
    "version": 3
   },
   "file_extension": ".py",
   "mimetype": "text/x-python",
   "name": "python",
   "nbconvert_exporter": "python",
   "pygments_lexer": "ipython3",
   "version": "3.12.7"
  }
 },
 "nbformat": 4,
 "nbformat_minor": 5
}
