{
 "cells": [
  {
   "cell_type": "markdown",
   "id": "8aa3fbfa-6122-492a-8934-5faf81d734ae",
   "metadata": {},
   "source": [
    "# Delivery Truck Trips\n"
   ]
  },
  {
   "attachments": {},
   "cell_type": "markdown",
   "id": "5fa66c81-a0f2-449a-855f-71847697e08b",
   "metadata": {},
   "source": [
    "<div>\n",
    "<img src=\"../images/truck.jpg\" alt=\"truck image\" width=\"30%\"/>\n",
    "</div>"
   ]
  },
  {
   "cell_type": "markdown",
   "id": "0261c900-9811-484a-8b80-98e93cfd4136",
   "metadata": {},
   "source": [
    "## Introduction:"
   ]
  },
  {
   "cell_type": "markdown",
   "id": "f487d2ec-d089-4c14-8803-64f2eb3ef2e2",
   "metadata": {},
   "source": [
    "If you’ve ever driven or even been in a car, you’ve mostly likely seen a truck on the road. These tracker trailers around the United States are responsible for transporting 11.46 billion tons of freight per year. Trucking itself is economically worth a whopping 2.2 trillion dollars in total. As efficiency is key for companies who deliver their products from manufacturers to their stores, there have to be optimal routing algorithms. "
   ]
  },
  {
   "cell_type": "markdown",
   "id": "2c6ad053-660f-4df9-9010-dabbad1ff255",
   "metadata": {},
   "source": [
    "The goal of this project is to use the [delivery truck trips dataset](https://www.kaggle.com/datasets/ramakrishnanthiyagu/delivery-truck-trips-data/data). We will assess how affected their eta prediction is and the potential issues surrounding it. We will do this by asking some necessary questions: \n",
    "- What’s the comparison between planned eta and actual eta? \n",
    "- Do long hours cause fatigue to the driver, and is it more likely for a delay?\n",
    "- Are any GPS Providers causing delays?\n",
    "- Do current Suppliers/Customers have higher delay rates?\n",
    "- Average travel time in different areas and are there implications for regulation because of this?\n"
   ]
  },
  {
   "cell_type": "markdown",
   "id": "a260722a-1854-4375-a731-1be758cb1463",
   "metadata": {},
   "source": [
    "In the dataset itself, there are a total of +6800 trips taken from the data set spanning 32 different columns. The columns are displayed below and follows with a description:\n",
    "<table>\n",
    "    <tr>\n",
    "        <td>Column</td>\n",
    "        <td>Notes</td>\n",
    "    </tr>\n",
    "    <tr>\n",
    "        <td>GpsProvider</td>\n",
    "        <td>Vendor who provides GPS</td>\n",
    "    </tr>\n",
    "    <tr>\n",
    "        <td>BookingID</td>\n",
    "        <td>Unique Identification for a trip</td>\n",
    "    </tr>\n",
    "    <tr>\n",
    "        <td>Market/Regular</td>\n",
    "        <td>Type of trip. Regular: Vendors with contract. Market: Vendor with no contract</td>\n",
    "    </tr>\n",
    "    <tr>\n",
    "        <td>BookingID_Date</td>\n",
    "        <td>Date when booking was created</td>\n",
    "    </tr>\n",
    "    <tr>\n",
    "        <td>vehicle_no</td>\n",
    "        <td>Truck Number</td>\n",
    "    </tr>\n",
    "    <tr>\n",
    "        <td>Origin_Location</td>\n",
    "        <td>Trip start place</td>\n",
    "    </tr>\n",
    "    <tr>\n",
    "        <td>Destination_Location</td>\n",
    "        <td>Trip end place</td>\n",
    "    </tr>\n",
    "    <tr>\n",
    "        <td>Org_lat_lon</td>\n",
    "        <td>Latitude/Longitude of start place</td>\n",
    "    </tr>\n",
    "    <tr>\n",
    "        <td>Des_lat_lon</td>\n",
    "        <td>Latitude/Longitude of end place</td>\n",
    "    </tr>\n",
    "    <tr>\n",
    "        <td>Data_Ping_time</td>\n",
    "        <td>Time when we receive GPS ping</td>\n",
    "    </tr>\n",
    "    <tr>\n",
    "        <td>Planned_ETA</td>\n",
    "        <td>Planned Estimated Time of Arrival</td>\n",
    "    </tr>\n",
    "    <tr>\n",
    "        <td>Current_Location</td>\n",
    "        <td>Live location</td>\n",
    "    </tr>\n",
    "    <tr>\n",
    "        <td>DestinationLocation</td>\n",
    "        <td>Repeat of destination location</td>\n",
    "    </tr>\n",
    "    <tr>\n",
    "        <td>actual_eta</td>\n",
    "        <td>Time when the truck arrived</td>\n",
    "    </tr>\n",
    "    <tr>\n",
    "        <td>Curr_lat</td>\n",
    "        <td>current latitude, changes each time when we receive GPS ping</td>\n",
    "    </tr>\n",
    "    <tr>\n",
    "        <td>Curr_lon</td>\n",
    "        <td>current longitude, changes each time when we receive GPS ping</td>\n",
    "    </tr>\n",
    "    <tr>\n",
    "        <td>ontime</td>\n",
    "        <td>If the truck arrived on time, calculated based on Planned and Actual ETA</td>\n",
    "    </tr>\n",
    "    <tr>\n",
    "        <td>delay</td>\n",
    "        <td>If the truck arrived with a delay, calculated based on Planned and Actual ETA</td>\n",
    "    </tr>\n",
    "    <tr>\n",
    "        <td>OriginLocation_Code</td>\n",
    "        <td>Origin code</td>\n",
    "    </tr>\n",
    "    <tr>\n",
    "        <td>DestinationLocation_Code</td>\n",
    "        <td>Destination code</td>\n",
    "    </tr>\n",
    "    <tr>\n",
    "        <td>trip_start_date</td>\n",
    "        <td>Date/Time when trip started</td>\n",
    "    </tr>\n",
    "    <tr>\n",
    "        <td>trip_end_date</td>\n",
    "        <td>Date/Time when trip ended Based on documentation (cant be considered for calculating delay)</td>\n",
    "    </tr>\n",
    "    <tr>\n",
    "        <td>TRANSPORTATION_DISTANCE_IN_KM</td>\n",
    "        <td>Total KM of travel</td>\n",
    "    </tr>\n",
    "    <tr>\n",
    "        <td>vehicleType</td>\n",
    "        <td>Type of Truck</td>\n",
    "    </tr>\n",
    "    <tr>\n",
    "        <td>Minimum_kms_to_be_covered_in_a_day</td>\n",
    "        <td>Minimum KM the driver needs to cover in a day</td>\n",
    "    </tr>\n",
    "    <tr>\n",
    "        <td>Driver_Name</td>\n",
    "        <td>Driver details</td>\n",
    "    </tr>\n",
    "    <tr>\n",
    "        <td>Driver_MobileNo</td>\n",
    "        <td>Driver details</td>\n",
    "    </tr>\n",
    "    <tr>\n",
    "        <td>customerID</td>\n",
    "        <td>Customer details</td>\n",
    "    </tr>\n",
    "    <tr>\n",
    "        <td>customerNameCode</td>\n",
    "        <td>Customer details</td>\n",
    "    </tr>\n",
    "    <tr>\n",
    "        <td>supplierID</td>\n",
    "        <td>Supplier who provides the vehicle</td>\n",
    "    </tr>\n",
    "    <tr>\n",
    "        <td>supplierNameCode</td>\n",
    "        <td>Supplier who provides the vehicle</td>\n",
    "    </tr>\n",
    "</table>\n"
   ]
  },
  {
   "cell_type": "code",
   "execution_count": 344,
   "id": "b07fbefe-5315-4e00-aee9-046e8778dd4a",
   "metadata": {},
   "outputs": [],
   "source": [
    "#Imports\n",
    "import numpy as np\n",
    "import pandas as pd\n",
    "import matplotlib.pyplot as plt\n",
    "import seaborn as sns"
   ]
  },
  {
   "cell_type": "code",
   "execution_count": 346,
   "id": "1f93d2bb-aff9-4f09-b23e-1648ddbcae97",
   "metadata": {},
   "outputs": [
    {
     "data": {
      "text/html": [
       "<div>\n",
       "<style scoped>\n",
       "    .dataframe tbody tr th:only-of-type {\n",
       "        vertical-align: middle;\n",
       "    }\n",
       "\n",
       "    .dataframe tbody tr th {\n",
       "        vertical-align: top;\n",
       "    }\n",
       "\n",
       "    .dataframe thead th {\n",
       "        text-align: right;\n",
       "    }\n",
       "</style>\n",
       "<table border=\"1\" class=\"dataframe\">\n",
       "  <thead>\n",
       "    <tr style=\"text-align: right;\">\n",
       "      <th></th>\n",
       "      <th>GpsProvider</th>\n",
       "      <th>BookingID</th>\n",
       "      <th>Market/Regular</th>\n",
       "      <th>BookingID_Date</th>\n",
       "      <th>vehicle_no</th>\n",
       "      <th>Origin_Location</th>\n",
       "      <th>Destination_Location</th>\n",
       "      <th>Org_lat_lon</th>\n",
       "      <th>Des_lat_lon</th>\n",
       "      <th>Data_Ping_time</th>\n",
       "      <th>...</th>\n",
       "      <th>TRANSPORTATION_DISTANCE_IN_KM</th>\n",
       "      <th>vehicleType</th>\n",
       "      <th>Minimum_kms_to_be_covered_in_a_day</th>\n",
       "      <th>Driver_Name</th>\n",
       "      <th>Driver_MobileNo</th>\n",
       "      <th>customerID</th>\n",
       "      <th>customerNameCode</th>\n",
       "      <th>supplierID</th>\n",
       "      <th>supplierNameCode</th>\n",
       "      <th>Material Shipped</th>\n",
       "    </tr>\n",
       "  </thead>\n",
       "  <tbody>\n",
       "    <tr>\n",
       "      <th>0</th>\n",
       "      <td>CONSENT TRACK</td>\n",
       "      <td>MVCV0000927/082021</td>\n",
       "      <td>Market</td>\n",
       "      <td>2020-08-17 14:59:01.000</td>\n",
       "      <td>KA590408</td>\n",
       "      <td>TVSLSL-PUZHAL-HUB,CHENNAI,TAMIL NADU</td>\n",
       "      <td>ASHOK LEYLAND PLANT 1- HOSUR,HOSUR,KARNATAKA</td>\n",
       "      <td>13.1550,80.1960</td>\n",
       "      <td>12.7400,77.8200</td>\n",
       "      <td>2020-08-24 00:05:09</td>\n",
       "      <td>...</td>\n",
       "      <td>320.0</td>\n",
       "      <td>NaN</td>\n",
       "      <td>NaN</td>\n",
       "      <td>NaN</td>\n",
       "      <td>NaN</td>\n",
       "      <td>ALLEXCHE45</td>\n",
       "      <td>Ashok leyland limited</td>\n",
       "      <td>VIJEXHOSR7</td>\n",
       "      <td>VIJAY TRANSPORT</td>\n",
       "      <td>BRACKET / GRAB HANDLE</td>\n",
       "    </tr>\n",
       "    <tr>\n",
       "      <th>1</th>\n",
       "      <td>VAMOSYS</td>\n",
       "      <td>VCV00014271/082021</td>\n",
       "      <td>Regular</td>\n",
       "      <td>2020-08-27 16:22:22.827</td>\n",
       "      <td>TN30BC5917</td>\n",
       "      <td>DAIMLER INDIA COMMERCIAL VEHICLES,KANCHIPURAM,...</td>\n",
       "      <td>DAIMLER INDIA COMMERCIAL VEHICLES,KANCHIPURAM,...</td>\n",
       "      <td>12.8390,79.9540</td>\n",
       "      <td>12.8390,79.9540</td>\n",
       "      <td>2020-08-28 12:40:28</td>\n",
       "      <td>...</td>\n",
       "      <td>103.0</td>\n",
       "      <td>NaN</td>\n",
       "      <td>NaN</td>\n",
       "      <td>RAMESH</td>\n",
       "      <td>NaN</td>\n",
       "      <td>DMREXCHEUX</td>\n",
       "      <td>Daimler india commercial vehicles pvt lt</td>\n",
       "      <td>VJLEXSHE09</td>\n",
       "      <td>VJ LOGISTICS</td>\n",
       "      <td>ZB MODEL PLATE / 3143</td>\n",
       "    </tr>\n",
       "    <tr>\n",
       "      <th>2</th>\n",
       "      <td>CONSENT TRACK</td>\n",
       "      <td>VCV00014382/082021</td>\n",
       "      <td>Regular</td>\n",
       "      <td>2020-08-27 17:59:24.987</td>\n",
       "      <td>TN22AR2748</td>\n",
       "      <td>LUCAS TVS LTD-PONDY,PONDY,PONDICHERRY</td>\n",
       "      <td>LUCAS TVS LTD-PONDY,PONDY,PONDICHERRY</td>\n",
       "      <td>11.8710,79.7390</td>\n",
       "      <td>11.8710,79.7390</td>\n",
       "      <td>2020-08-28 09:05:09</td>\n",
       "      <td>...</td>\n",
       "      <td>300.0</td>\n",
       "      <td>NaN</td>\n",
       "      <td>NaN</td>\n",
       "      <td>GIRI</td>\n",
       "      <td>NaN</td>\n",
       "      <td>LUTGCCHE06</td>\n",
       "      <td>Lucas tvs ltd</td>\n",
       "      <td>GSTEXLAK1Q</td>\n",
       "      <td>G.S. TRANSPORT</td>\n",
       "      <td>LETTERING / FUSO</td>\n",
       "    </tr>\n",
       "    <tr>\n",
       "      <th>3</th>\n",
       "      <td>VAMOSYS</td>\n",
       "      <td>VCV00014743/082021</td>\n",
       "      <td>Regular</td>\n",
       "      <td>2020-08-28 00:48:24.503</td>\n",
       "      <td>TN28AQ0781</td>\n",
       "      <td>DAIMLER INDIA COMMERCIAL VEHICLES,KANCHIPURAM,...</td>\n",
       "      <td>DAIMLER INDIA COMMERCIAL VEHICLES,KANCHIPURAM,...</td>\n",
       "      <td>12.8390,79.9540</td>\n",
       "      <td>12.8390,79.9540</td>\n",
       "      <td>2020-08-28 12:40:31</td>\n",
       "      <td>...</td>\n",
       "      <td>61.0</td>\n",
       "      <td>NaN</td>\n",
       "      <td>NaN</td>\n",
       "      <td>RAVI</td>\n",
       "      <td>NaN</td>\n",
       "      <td>DMREXCHEUX</td>\n",
       "      <td>Daimler india commercial vehicles pvt lt</td>\n",
       "      <td>ARVEXNAM09</td>\n",
       "      <td>ARVINTH TRANSPORT</td>\n",
       "      <td>LU STRUT RA / RADIUS ROD</td>\n",
       "    </tr>\n",
       "    <tr>\n",
       "      <th>4</th>\n",
       "      <td>VAMOSYS</td>\n",
       "      <td>VCV00014744/082021</td>\n",
       "      <td>Regular</td>\n",
       "      <td>2020-08-28 01:23:19.243</td>\n",
       "      <td>TN68F1722</td>\n",
       "      <td>LUCAS TVS LTD-PONDY,PONDY,PONDICHERRY</td>\n",
       "      <td>LUCAS TVS LTD-PONDY,PONDY,PONDICHERRY</td>\n",
       "      <td>11.8720,79.6320</td>\n",
       "      <td>11.8720,79.6320</td>\n",
       "      <td>2020-08-28 12:40:29</td>\n",
       "      <td>...</td>\n",
       "      <td>240.0</td>\n",
       "      <td>NaN</td>\n",
       "      <td>NaN</td>\n",
       "      <td>TAMIL</td>\n",
       "      <td>NaN</td>\n",
       "      <td>LUTGCCHE06</td>\n",
       "      <td>Lucas tvs ltd</td>\n",
       "      <td>SRTEXKOR96</td>\n",
       "      <td>SR TRANSPORTS</td>\n",
       "      <td>WISHBONE / V ROD/HDT</td>\n",
       "    </tr>\n",
       "  </tbody>\n",
       "</table>\n",
       "<p>5 rows × 32 columns</p>\n",
       "</div>"
      ],
      "text/plain": [
       "     GpsProvider           BookingID Market/Regular           BookingID_Date  \\\n",
       "0  CONSENT TRACK  MVCV0000927/082021          Market 2020-08-17 14:59:01.000   \n",
       "1        VAMOSYS  VCV00014271/082021         Regular 2020-08-27 16:22:22.827   \n",
       "2  CONSENT TRACK  VCV00014382/082021         Regular 2020-08-27 17:59:24.987   \n",
       "3        VAMOSYS  VCV00014743/082021         Regular 2020-08-28 00:48:24.503   \n",
       "4        VAMOSYS  VCV00014744/082021         Regular 2020-08-28 01:23:19.243   \n",
       "\n",
       "   vehicle_no                                    Origin_Location  \\\n",
       "0    KA590408               TVSLSL-PUZHAL-HUB,CHENNAI,TAMIL NADU   \n",
       "1  TN30BC5917  DAIMLER INDIA COMMERCIAL VEHICLES,KANCHIPURAM,...   \n",
       "2  TN22AR2748              LUCAS TVS LTD-PONDY,PONDY,PONDICHERRY   \n",
       "3  TN28AQ0781  DAIMLER INDIA COMMERCIAL VEHICLES,KANCHIPURAM,...   \n",
       "4   TN68F1722              LUCAS TVS LTD-PONDY,PONDY,PONDICHERRY   \n",
       "\n",
       "                                Destination_Location      Org_lat_lon  \\\n",
       "0       ASHOK LEYLAND PLANT 1- HOSUR,HOSUR,KARNATAKA  13.1550,80.1960   \n",
       "1  DAIMLER INDIA COMMERCIAL VEHICLES,KANCHIPURAM,...  12.8390,79.9540   \n",
       "2              LUCAS TVS LTD-PONDY,PONDY,PONDICHERRY  11.8710,79.7390   \n",
       "3  DAIMLER INDIA COMMERCIAL VEHICLES,KANCHIPURAM,...  12.8390,79.9540   \n",
       "4              LUCAS TVS LTD-PONDY,PONDY,PONDICHERRY  11.8720,79.6320   \n",
       "\n",
       "       Des_lat_lon      Data_Ping_time  ... TRANSPORTATION_DISTANCE_IN_KM  \\\n",
       "0  12.7400,77.8200 2020-08-24 00:05:09  ...                         320.0   \n",
       "1  12.8390,79.9540 2020-08-28 12:40:28  ...                         103.0   \n",
       "2  11.8710,79.7390 2020-08-28 09:05:09  ...                         300.0   \n",
       "3  12.8390,79.9540 2020-08-28 12:40:31  ...                          61.0   \n",
       "4  11.8720,79.6320 2020-08-28 12:40:29  ...                         240.0   \n",
       "\n",
       "  vehicleType Minimum_kms_to_be_covered_in_a_day Driver_Name  Driver_MobileNo  \\\n",
       "0         NaN                                NaN         NaN              NaN   \n",
       "1         NaN                                NaN      RAMESH              NaN   \n",
       "2         NaN                                NaN        GIRI              NaN   \n",
       "3         NaN                                NaN        RAVI              NaN   \n",
       "4         NaN                                NaN       TAMIL              NaN   \n",
       "\n",
       "   customerID                          customerNameCode  supplierID  \\\n",
       "0  ALLEXCHE45                     Ashok leyland limited  VIJEXHOSR7   \n",
       "1  DMREXCHEUX  Daimler india commercial vehicles pvt lt  VJLEXSHE09   \n",
       "2  LUTGCCHE06                             Lucas tvs ltd  GSTEXLAK1Q   \n",
       "3  DMREXCHEUX  Daimler india commercial vehicles pvt lt  ARVEXNAM09   \n",
       "4  LUTGCCHE06                             Lucas tvs ltd  SRTEXKOR96   \n",
       "\n",
       "    supplierNameCode          Material Shipped  \n",
       "0    VIJAY TRANSPORT     BRACKET / GRAB HANDLE  \n",
       "1       VJ LOGISTICS     ZB MODEL PLATE / 3143  \n",
       "2     G.S. TRANSPORT          LETTERING / FUSO  \n",
       "3  ARVINTH TRANSPORT  LU STRUT RA / RADIUS ROD  \n",
       "4      SR TRANSPORTS      WISHBONE / V ROD/HDT  \n",
       "\n",
       "[5 rows x 32 columns]"
      ]
     },
     "execution_count": 346,
     "metadata": {},
     "output_type": "execute_result"
    }
   ],
   "source": [
    "#dataset\n",
    "df = pd.read_excel('truck-trips.xlsx')\n",
    "df.head()"
   ]
  },
  {
   "cell_type": "markdown",
   "id": "10a06dcd-977a-4fb4-ad8d-00caf096e9df",
   "metadata": {},
   "source": [
    "## Pre-processing"
   ]
  },
  {
   "cell_type": "markdown",
   "id": "38b26e7c-0441-405c-ba6e-69a97604a74c",
   "metadata": {},
   "source": [
    "### Dropping unneeded columns"
   ]
  },
  {
   "cell_type": "markdown",
   "id": "d5041ada-0104-4a67-b614-f15f2ab22066",
   "metadata": {},
   "source": [
    "Now, the first set in pre-processing is getting rid of all the columns we aren’t interested in at all. These would just clutter what we are looking at and may have some privacy issues. This will include customer information, driver's personal information, supplier information, vehicle number, vehicle type, and some redundant information."
   ]
  },
  {
   "cell_type": "code",
   "execution_count": 350,
   "id": "31bdd022-7567-4f14-97b7-f867639da52d",
   "metadata": {},
   "outputs": [],
   "source": [
    "df = df.drop(['Org_lat_lon', 'Des_lat_lon', 'vehicleType', 'Driver_Name', 'Driver_MobileNo', 'customerID', 'customerNameCode', 'supplierID', 'GpsProvider'],  axis=1)"
   ]
  },
  {
   "cell_type": "code",
   "execution_count": 351,
   "id": "3e93f56a-27a8-4178-83d0-a356d4c1dc96",
   "metadata": {},
   "outputs": [
    {
     "data": {
      "text/plain": [
       "(6880, 23)"
      ]
     },
     "execution_count": 351,
     "metadata": {},
     "output_type": "execute_result"
    }
   ],
   "source": [
    "df.shape"
   ]
  },
  {
   "cell_type": "markdown",
   "id": "a92e747b-90e7-4167-9ac2-c77b2a515e92",
   "metadata": {},
   "source": [
    "### Dropping nulls"
   ]
  },
  {
   "cell_type": "markdown",
   "id": "bc40a904-1a7b-418a-b406-1a17e129a3d7",
   "metadata": {},
   "source": [
    "Next, there are quite a few null values in the dataset. Some of them are okay, like delay and on time as if one is null the other is true Planned_ETA has no null values while actual_eta looks to have a small amount, so it's just going to be dropped. We'll add these values back later when we get to other questions."
   ]
  },
  {
   "cell_type": "code",
   "execution_count": 354,
   "id": "63180601-91b5-4bb9-bad3-362c5698ed5e",
   "metadata": {},
   "outputs": [
    {
     "data": {
      "text/plain": [
       "BookingID                                0\n",
       "Market/Regular                           0\n",
       "BookingID_Date                           0\n",
       "vehicle_no                               0\n",
       "Origin_Location                          0\n",
       "Destination_Location                     0\n",
       "Data_Ping_time                         953\n",
       "Planned_ETA                              0\n",
       "Current_Location                       964\n",
       "DestinationLocation                      0\n",
       "actual_eta                              37\n",
       "Curr_lat                               953\n",
       "Curr_lon                               953\n",
       "ontime                                4332\n",
       "delay                                 2538\n",
       "OriginLocation_Code                      3\n",
       "DestinationLocation_Code                27\n",
       "trip_start_date                          0\n",
       "trip_end_date                          194\n",
       "TRANSPORTATION_DISTANCE_IN_KM          712\n",
       "Minimum_kms_to_be_covered_in_a_day    4060\n",
       "supplierNameCode                         0\n",
       "Material Shipped                         0\n",
       "dtype: int64"
      ]
     },
     "execution_count": 354,
     "metadata": {},
     "output_type": "execute_result"
    }
   ],
   "source": [
    "df.isnull().sum()"
   ]
  },
  {
   "cell_type": "code",
   "execution_count": 355,
   "id": "546c8674-1b1b-45d7-93f0-31c82ec79c69",
   "metadata": {},
   "outputs": [],
   "source": [
    "df = df.dropna(subset=['actual_eta'])"
   ]
  },
  {
   "cell_type": "code",
   "execution_count": 356,
   "id": "c50ee058-6698-4eaf-a11c-4912d5fce11b",
   "metadata": {},
   "outputs": [
    {
     "data": {
      "text/plain": [
       "BookingID                                0\n",
       "Market/Regular                           0\n",
       "BookingID_Date                           0\n",
       "vehicle_no                               0\n",
       "Origin_Location                          0\n",
       "Destination_Location                     0\n",
       "Data_Ping_time                         953\n",
       "Planned_ETA                              0\n",
       "Current_Location                       953\n",
       "DestinationLocation                      0\n",
       "actual_eta                               0\n",
       "Curr_lat                               953\n",
       "Curr_lon                               953\n",
       "ontime                                4304\n",
       "delay                                 2515\n",
       "OriginLocation_Code                      3\n",
       "DestinationLocation_Code                27\n",
       "trip_start_date                          0\n",
       "trip_end_date                          194\n",
       "TRANSPORTATION_DISTANCE_IN_KM          708\n",
       "Minimum_kms_to_be_covered_in_a_day    4032\n",
       "supplierNameCode                         0\n",
       "Material Shipped                         0\n",
       "dtype: int64"
      ]
     },
     "execution_count": 356,
     "metadata": {},
     "output_type": "execute_result"
    }
   ],
   "source": [
    "df.isnull().sum()"
   ]
  },
  {
   "cell_type": "code",
   "execution_count": 357,
   "id": "f6ee1563-afc2-4441-b70d-856b50f7f341",
   "metadata": {},
   "outputs": [
    {
     "data": {
      "text/plain": [
       "0       2020-08-28 14:38:04.447000\n",
       "1       2020-08-28 12:46:17.007000\n",
       "2       2020-08-28 16:03:30.793000\n",
       "3       2020-08-28 12:50:27.997000\n",
       "4       2020-08-28 14:22:50.127000\n",
       "                   ...            \n",
       "6875           2019-03-27 17:46:00\n",
       "6876           2019-03-31 19:51:00\n",
       "6877           2019-03-30 00:53:00\n",
       "6878           2019-03-27 16:35:00\n",
       "6879           2019-03-28 23:41:00\n",
       "Name: actual_eta, Length: 6843, dtype: object"
      ]
     },
     "execution_count": 357,
     "metadata": {},
     "output_type": "execute_result"
    }
   ],
   "source": [
    "df['actual_eta']"
   ]
  },
  {
   "cell_type": "markdown",
   "id": "0b7d1d77-6468-40fc-a570-84ea6f9d359a",
   "metadata": {},
   "source": [
    "## Visualization\n",
    "---\n",
    "<a id=\"visual\"></a>"
   ]
  },
  {
   "cell_type": "markdown",
   "id": "5020b4d3-44d2-4d9a-bf14-5f2d1a83ab92",
   "metadata": {},
   "source": [
    "Lets first show the current on-time to delay amount. Luckily, it's already calculated inside the dataset."
   ]
  },
  {
   "cell_type": "code",
   "execution_count": 312,
   "id": "ba75fb8d-dad2-4edc-9653-7d061ad94e5a",
   "metadata": {},
   "outputs": [
    {
     "data": {
      "image/png": "[encoded data removed]",
      "text/plain": [
       "<Figure size 600x600 with 1 Axes>"
      ]
     },
     "metadata": {},
     "output_type": "display_data"
    }
   ],
   "source": [
    "counts = np.array([df['delay'].count(), df['ontime'].count()])\n",
    "plt.figure(figsize=(6, 6))\n",
    "plt.pie(counts, labels=[\"delay\", \"ontime\"], autopct='%1.1f%%', colors=[ 'red', 'green'])\n",
    "plt.title('Proportion of Early/On-Time/Late Deliveries')\n",
    "plt.show()"
   ]
  },
  {
   "cell_type": "markdown",
   "id": "9dd3981c-e699-4bc5-b630-075b55488e4e",
   "metadata": {},
   "source": [
    "Lets also find how many are actually early and not being accounted for."
   ]
  },
  {
   "cell_type": "code",
   "execution_count": 367,
   "id": "a8a678b0-e9b7-4e44-a747-ade411f8d0b1",
   "metadata": {
    "scrolled": true
   },
   "outputs": [
    {
     "name": "stdout",
     "output_type": "stream",
     "text": [
      "0          Late\n",
      "1         Early\n",
      "2         Early\n",
      "3         Early\n",
      "4         Early\n",
      "         ...   \n",
      "6875    On Time\n",
      "6876    On Time\n",
      "6877    On Time\n",
      "6878    On Time\n",
      "6879    On Time\n",
      "Name: delivery_status, Length: 6843, dtype: category\n",
      "Categories (3, object): ['Early' < 'On Time' < 'Late']\n"
     ]
    }
   ],
   "source": [
    "df['eta_difference'] = (pd.to_datetime(df['actual_eta']) - pd.to_datetime(df['Planned_ETA'])).dt.total_seconds() / 3600 \n",
    "df['delivery_status'] = pd.cut(\n",
    "    df['eta_difference'],\n",
    "    bins=[-float('inf'), -1, 1, float('inf')],  # Define thresholds\n",
    "    labels=['Early', 'On Time', 'Late']\n",
    ")\n",
    "print(df['delivery_status'])"
   ]
  },
  {
   "cell_type": "code",
   "execution_count": 371,
   "id": "9ee0665c-8445-4acb-9b8a-0c64567735d4",
   "metadata": {},
   "outputs": [
    {
     "data": {
      "image/png": "[encoded data removed]",
      "text/plain": [
       "<Figure size 600x600 with 1 Axes>"
      ]
     },
     "metadata": {},
     "output_type": "display_data"
    }
   ],
   "source": [
    "status_counts = df['delivery_status'].value_counts()\n",
    "plt.figure(figsize=(6, 6))\n",
    "plt.pie(status_counts, labels=status_counts.index, autopct='%1.1f%%', colors=['red', 'gray', 'green'])\n",
    "plt.title('Proportion of Early/On-Time/Late Deliveries')\n",
    "plt.show()"
   ]
  },
  {
   "cell_type": "markdown",
   "id": "85d8fcc1-e868-40c5-a6f7-89811e404578",
   "metadata": {},
   "source": [
    "## Impact & Implications\n",
    "---\n",
    "<a id=\"impact\"></a>"
   ]
  },
  {
   "cell_type": "markdown",
   "id": "36cdc87b-c1b3-4118-b6c3-d2d6227e4483",
   "metadata": {},
   "source": [
    "Some takeaways from the data gathered:\n",
    "- Only a little over 1/3rd of the time is the ETA accurate and less if early is considered wrong. It shows that there needs to be either more delay added to the ETA or improve estimations in highly concentrated regions."
   ]
  },
  {
   "cell_type": "markdown",
   "id": "ac48892e-30e1-4f76-a596-f34a59347d3a",
   "metadata": {},
   "source": [
    "## References\n",
    "---"
   ]
  },
  {
   "cell_type": "markdown",
   "id": "83a66378-205f-4521-8c4a-f1313dbe434d",
   "metadata": {},
   "source": [
    "- [Truck Trips Dataset](https://www.kaggle.com/datasets/ramakrishnanthiyagu/delivery-truck-trips-data/data)\n",
    "- [Introduction facts](https://www.geotab.com/blog/trucking-industry-statistics)"
   ]
  },
  {
   "cell_type": "markdown",
   "id": "6866e245-d926-4869-8fa2-aed1148b718f",
   "metadata": {},
   "source": [
    "## Ignore this: for testing\n",
    "---"
   ]
  },
  {
   "cell_type": "markdown",
   "id": "118af3fc-25f0-4617-84c6-b338cbc5323f",
   "metadata": {},
   "source": [
    "These will be removed after"
   ]
  },
  {
   "cell_type": "code",
   "execution_count": 328,
   "id": "e65dcfec-41cc-48e6-b106-979f038f7ead",
   "metadata": {},
   "outputs": [
    {
     "name": "stderr",
     "output_type": "stream",
     "text": [
      "C:\\Users\\Yoshi\\AppData\\Local\\Temp\\ipykernel_9156\\2528540124.py:6: UserWarning: No artists with labels found to put in legend.  Note that artists whose label start with an underscore are ignored when legend() is called with no argument.\n",
      "  plt.legend()\n"
     ]
    },
    {
     "data": {
      "image/png": "[encoded data removed]",
      "text/plain": [
       "<Figure size 1000x600 with 1 Axes>"
      ]
     },
     "metadata": {},
     "output_type": "display_data"
    }
   ],
   "source": [
    "plt.figure(figsize=(10, 6))\n",
    "sns.histplot(df['eta_difference'], kde=True, bins=30)\n",
    "plt.xlabel('Time Difference (hours)')\n",
    "plt.ylabel('Frequency')\n",
    "plt.title('Distribution of Planned vs. Actual ETA Differences')\n",
    "plt.legend()\n",
    "plt.show()"
   ]
  },
  {
   "cell_type": "code",
   "execution_count": 332,
   "id": "2d34ed19-8f79-4c72-833c-f5ad94ebfac0",
   "metadata": {},
   "outputs": [
    {
     "data": {
      "text/plain": [
       "0   2020-08-21 18:59:01.000\n",
       "1   2020-08-31 20:22:22.827\n",
       "2   2020-08-31 21:59:24.987\n",
       "3   2020-09-01 04:48:24.503\n",
       "4   2020-09-01 05:23:19.243\n",
       "Name: Planned_ETA, dtype: datetime64[ns]"
      ]
     },
     "execution_count": 332,
     "metadata": {},
     "output_type": "execute_result"
    }
   ],
   "source": [
    "df['Planned_ETA'].head()"
   ]
  },
  {
   "cell_type": "code",
   "execution_count": 334,
   "id": "0d3aa438-ce0b-4762-a010-097ad31ddfaa",
   "metadata": {},
   "outputs": [
    {
     "data": {
      "text/plain": [
       "0   2020-08-28 14:38:04.447\n",
       "1   2020-08-28 12:46:17.007\n",
       "2   2020-08-28 16:03:30.793\n",
       "3   2020-08-28 12:50:27.997\n",
       "4   2020-08-28 14:22:50.127\n",
       "Name: actual_eta, dtype: datetime64[ns]"
      ]
     },
     "execution_count": 334,
     "metadata": {},
     "output_type": "execute_result"
    }
   ],
   "source": [
    "df['actual_eta'].head()"
   ]
  },
  {
   "cell_type": "code",
   "execution_count": 336,
   "id": "e081129f-9f99-4b88-8136-b9203da4b481",
   "metadata": {},
   "outputs": [
    {
     "data": {
      "text/plain": [
       "BookingID\n",
       "AEIBK1900017    1\n",
       "AEIBK1900028    1\n",
       "AEIBK1900046    1\n",
       "AEIBK1900047    1\n",
       "AEIBK1900053    1\n",
       "               ..\n",
       "WDSBKTP58187    1\n",
       "WDSBKTP58189    1\n",
       "WDSBKTP58190    1\n",
       "WDSBKTP58191    1\n",
       "WDSBKTP58192    1\n",
       "Length: 6838, dtype: int64"
      ]
     },
     "execution_count": 336,
     "metadata": {},
     "output_type": "execute_result"
    }
   ],
   "source": [
    "df.groupby('BookingID').size()"
   ]
  },
  {
   "cell_type": "code",
   "execution_count": 338,
   "id": "2a9ebab9-535e-4d6e-a573-0857f1bc5155",
   "metadata": {},
   "outputs": [
    {
     "data": {
      "text/plain": [
       "Origin_Location\n",
       "ASHOK LEYLAND ENNORE,CHENNAI,TAMIL NADU               33\n",
       "ASHOK LEYLAND PARTS-HOSUR,HOSUR,TAMIL NADU             1\n",
       "ASHOK LEYLAND PLANT 1- HOSUR,HOSUR,KARNATAKA           8\n",
       "ASHOK LEYLAND PLANT 2-HOSUR,HOSUR,KARNATAKA          121\n",
       "Adavipalem, West Godavari, Andhra Pradesh              4\n",
       "                                                    ... \n",
       "Visakhapatnam Port, Visakhapatnam, Andhra Pradesh      2\n",
       "WABCO INDIA LTD,HOSUR,TAMIL NADU                       3\n",
       "WABCO INDIA LTD-AMBATTUR,CHENNAI,TAMIL NADU            7\n",
       "Yaarlipura, Jaipur, Rajasthan                          4\n",
       "Zoo Road, Kamrup, Assam                                3\n",
       "Length: 180, dtype: int64"
      ]
     },
     "execution_count": 338,
     "metadata": {},
     "output_type": "execute_result"
    }
   ],
   "source": [
    "df.groupby(['Origin_Location']).size()"
   ]
  }
 ],
 "metadata": {
  "kernelspec": {
   "display_name": "Python 3 (ipykernel)",
   "language": "python",
   "name": "python3"
  },
  "language_info": {
   "codemirror_mode": {
    "name": "ipython",
    "version": 3
   },
   "file_extension": ".py",
   "mimetype": "text/x-python",
   "name": "python",
   "nbconvert_exporter": "python",
   "pygments_lexer": "ipython3",
   "version": "3.12.7"
  }
 },
 "nbformat": 4,
 "nbformat_minor": 5
}
